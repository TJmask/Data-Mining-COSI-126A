{
 "cells": [
  {
   "cell_type": "markdown",
   "metadata": {},
   "source": [
    "# Section II: Programming"
   ]
  },
  {
   "cell_type": "markdown",
   "metadata": {},
   "source": [
    "## Part I: Cluster Validity (15 point)"
   ]
  },
  {
   "cell_type": "code",
   "execution_count": null,
   "metadata": {},
   "outputs": [],
   "source": [
    "import scipy.optimize\n",
    "import scipy.sparse\n",
    "import numpy as np\n",
    "from math import log\n",
    "from sklearn.metrics import adjusted_rand_score, silhouette_score\n",
    "\n",
    "\n",
    "def contingency_matrix(ground_truth: np.ndarray, prediction: np.ndarray,\n",
    "                       sparse: bool = False) -> scipy.sparse.csr.csr_matrix:\n",
    "    \"\"\"\n",
    "\n",
    "    :param ground_truth:\n",
    "    :param prediction:\n",
    "    :param sparse:\n",
    "    :return:\n",
    "    \"\"\"\n",
    "\n",
    "    classes, class_idx = np.unique(ground_truth, return_inverse=True)\n",
    "    clusters, cluster_idx = np.unique(prediction, return_inverse=True)\n",
    "    n_classes, n_clusters = classes.shape[0], clusters.shape[0]\n",
    "    contingency = scipy.sparse.coo_matrix((np.ones(class_idx.shape[0]), (class_idx, cluster_idx)),\n",
    "                                          shape=(n_classes, n_clusters), dtype=np.int)\n",
    "\n",
    "    if sparse:\n",
    "        contingency = contingency.tocsr()\n",
    "        contingency.sum_duplicates()\n",
    "    else:\n",
    "        contingency = contingency.toarray()\n",
    "\n",
    "    return contingency\n",
    "\n",
    "\n",
    "def entropy(labels: np.ndarray) -> float:\n",
    "    \"\"\"\n",
    "\n",
    "    :param labels:\n",
    "    :return:\n",
    "    \"\"\"\n",
    "\n",
    "    if len(labels) == 0:\n",
    "        return 1.0\n",
    "\n",
    "    label_idx = np.unique(labels, return_inverse=True)[1]\n",
    "    pi = np.bincount(label_idx).astype(np.float64)\n",
    "    pi = pi[pi > 0]\n",
    "    pi_sum = np.sum(pi)\n",
    "\n",
    "    return -np.sum((pi / pi_sum) * (np.log(pi) - log(pi_sum)))\n",
    "\n",
    "\n",
    "def cluster_accuracy(ground_truth: np.ndarray, prediction: np.ndarray, cluster_number: int = None) -> tuple:\n",
    "    \"\"\"\n",
    "    Calculate clustering accuracy using the linear_sum_assignment function (based on hungary algorithm)\n",
    "    in SciPy to determine reassignments.\n",
    "\n",
    "    :param ground_truth: true cluster numbers, an integer array 0-indexed\n",
    "    :param predicted: predicted cluster numbers, an integer array 0-indexed\n",
    "    :param cluster_number: number of clusters\n",
    "    :return: reassignment dictionary, clustering accuracy\n",
    "    \"\"\"\n",
    "\n",
    "    assert ground_truth.shape == prediction.shape\n",
    "\n",
    "    if cluster_number is None:\n",
    "        cluster_number = max(ground_truth.max(), prediction.max()) + 1\n",
    "    count_matrix = np.zeros((cluster_number, cluster_number), dtype=np.int64)\n",
    "\n",
    "    for i in range(prediction.size):\n",
    "        count_matrix[prediction[i], ground_truth[i]] += 1\n",
    "\n",
    "    row_ind, col_ind = scipy.optimize.linear_sum_assignment(count_matrix.max() - count_matrix)\n",
    "    reassignment = dict(zip(row_ind, col_ind))\n",
    "    accuracy = count_matrix[row_ind, col_ind].sum() / prediction.size\n",
    "\n",
    "    return reassignment, accuracy\n",
    "\n",
    "\n",
    "def mutual_info_score(ground_truth: np.ndarray, prediction: np.ndarray) -> float:\n",
    "    \"\"\"\n",
    "    MI(U, V) = sum(P(i, j) * log(P(i, j) / P(i)P'(j)))\n",
    "\n",
    "    :param ground_truth:\n",
    "    :param prediction:\n",
    "    :return:\n",
    "    \"\"\"\n",
    "\n",
    "    contingency = contingency_matrix(ground_truth, prediction, sparse=True)\n",
    "    nzx, nzy, nz_val = scipy.sparse.find(contingency)\n",
    "    contingency_sum = contingency.sum()\n",
    "    pi = np.ravel(contingency.sum(axis=1))\n",
    "    pj = np.ravel(contingency.sum(axis=0))\n",
    "    log_contingency_nm = np.log(nz_val)\n",
    "    contingency_nm = nz_val / contingency_sum\n",
    "    # for non-zeros\n",
    "    outer = (pi.take(nzx).astype(np.int64, copy=False) * pj.take(nzy).astype(np.int64, copy=False))\n",
    "    log_outer = -np.log(outer) + log(pi.sum()) + log(pj.sum())\n",
    "    mi = (contingency_nm * (log_contingency_nm - log(contingency_sum)) + contingency_nm * log_outer)\n",
    "\n",
    "    return mi.sum()\n",
    "\n",
    "\n",
    "def normalized_mutual_info_score(ground_truth: np.ndarray, prediction: np.ndarray) -> float:\n",
    "    \"\"\"\n",
    "    Normalized mutual information between two clustering results.\n",
    "    NMI(U, V) = MI(U, V) / mean(H(U), H(V))\n",
    "\n",
    "    :param ground_truth: true cluster numbers, an integer array 0-indexed\n",
    "    :param prediction: predicted cluster numbers, an integer array 0-indexed\n",
    "    :return: normalized mutual information score, 0 -> no mutual information; 1 -> perfect correlation\n",
    "    \"\"\"\n",
    "\n",
    "    assert ground_truth.shape == prediction.shape\n",
    "\n",
    "    classes, clusters = np.unique(ground_truth), np.unique(prediction)\n",
    "    if (classes.shape[0] == clusters.shape[0] == 1 or classes.shape[0] == clusters.shape[0] == 0):\n",
    "        return 1.0\n",
    "\n",
    "    mi = mutual_info_score(ground_truth, prediction)\n",
    "    h_true, h_pred = entropy(ground_truth), entropy(prediction)\n",
    "    # arithmetic normalized\n",
    "    normalizer = max(np.mean([h_true, h_pred]), np.finfo('float64').eps)\n",
    "    nmi = mi / normalizer\n",
    "\n",
    "    return nmi\n",
    "\n",
    "\n",
    "def _adjusted_rand_score(ground_truth: np.ndarray, prediction: np.ndarray) -> float:\n",
    "    \"\"\"\n",
    "\n",
    "    :param ground_truth:\n",
    "    :param prediction:\n",
    "    :return:\n",
    "    \"\"\"\n",
    "\n",
    "    assert ground_truth.shape == prediction.shape\n",
    "\n",
    "    return adjusted_rand_score(ground_truth, prediction)\n",
    "\n",
    "\n",
    "def _silhouette_score(X: np.ndarray, prediction: np.ndarray) -> float:\n",
    "    \"\"\"\n",
    "\n",
    "    :param X:\n",
    "    :param prediction:\n",
    "    :return:\n",
    "    \"\"\"\n",
    "\n",
    "    assert X.shape[0] == prediction.shape[0]\n",
    "\n",
    "    return silhouette_score(X, prediction)\n"
   ]
  },
  {
   "cell_type": "markdown",
   "metadata": {},
   "source": [
    "## Part II: K-Means Clustering"
   ]
  },
  {
   "cell_type": "code",
   "execution_count": 97,
   "metadata": {},
   "outputs": [
    {
     "data": {
      "text/plain": [
       "array([[-7.8803e-01,  4.9875e-02],\n",
       "       [-6.6334e-01, -2.2204e-16],\n",
       "       [-7.5312e-01, -4.9875e-03],\n",
       "       [-4.9377e-01, -1.4963e-02],\n",
       "       [-8.2294e-01, -1.9950e-02]])"
      ]
     },
     "execution_count": 97,
     "metadata": {},
     "output_type": "execute_result"
    }
   ],
   "source": [
    "## importing packages\n",
    "import pandas as pd\n",
    "import numpy as np\n",
    "import matplotlib.pylab as plt\n",
    "\n",
    "## loading data\n",
    "three_globs = pd.read_csv('/Users/tjmask/Desktop/Semester 2/Data Mining/HW1/hw1/Homework_1/Datasets/three_globs.csv')\n",
    "three_globs = np.array(three_globs)\n",
    "three_globs[0:5]"
   ]
  },
  {
   "cell_type": "markdown",
   "metadata": {},
   "source": [
    "### Implementing K-means"
   ]
  },
  {
   "cell_type": "code",
   "execution_count": 99,
   "metadata": {},
   "outputs": [],
   "source": [
    "## loading packages \n",
    "import numpy as np\n",
    "import matplotlib.pyplot as plt\n",
    "import matplotlib.animation as animation"
   ]
  },
  {
   "cell_type": "code",
   "execution_count": null,
   "metadata": {},
   "outputs": [],
   "source": []
  },
  {
   "cell_type": "code",
   "execution_count": 152,
   "metadata": {},
   "outputs": [],
   "source": [
    "#euclidian distance between 2 data points. \n",
    "def euclidian(a, b):\n",
    "    return np.linalg.norm(a-b)\n",
    "\n",
    "def kmeans(k, epsilon=0.001, distance='euclidian', dataset=None):\n",
    "    #list to store old centroid\n",
    "    history_centroids = []\n",
    "    #set the distance calculation type \n",
    "    if distance == 'euclidian':\n",
    "        dist_method = euclidian\n",
    "    ## converting data into array\n",
    "    dataset = np.array(dataset)\n",
    "    # get the number of rows (instances) and columns (features) from the dataset\n",
    "    num_instances, num_features = dataset.shape\n",
    "    # initialize k centroids chosen randomly \n",
    "    prototypes = dataset[np.random.randint(0, num_instances - 1, size=k)] ## k*2 matrix\n",
    "    #set these to our list of past centroid (to show progress over time)\n",
    "    history_centroids.append(prototypes)\n",
    "    #to keep track of centroid at every iteration\n",
    "    prototypes_old = np.zeros(prototypes.shape) ## k*2 matrix\n",
    "    #to store clusters\n",
    "    belongs_to = np.zeros((num_instances, 1)) ## n*1 matrix\n",
    "    norm = dist_method(prototypes, prototypes_old) \n",
    "    iteration = 0\n",
    "    while norm > epsilon:\n",
    "        iteration += 1\n",
    "        norm = dist_method(prototypes, prototypes_old)\n",
    "        #for each instance in the dataset\n",
    "        for index_instance, instance in enumerate(dataset):\n",
    "            #define a distance vector of size k\n",
    "            dist_vec = np.zeros((k,1))\n",
    "            #for each centroid\n",
    "            for index_prototype, prototype in enumerate(prototypes): ## 2*1 \n",
    "                #compute the distance between x and centroid\n",
    "                dist_vec[index_prototype] = dist_method(prototype, instance)\n",
    "            #find the smallest distance, assign that distance to a cluster\n",
    "            belongs_to[index_instance, 0] = np.argmin(dist_vec) ## the location\n",
    "#         print(iteration, \"=================\", norm)\n",
    "        tmp_prototypes = np.zeros((k, num_features)) ## k*2 matrix\n",
    "        \n",
    "        # update centriods for each cluster\n",
    "        for index in range(k):\n",
    "            #get all the points assigned to a cluster\n",
    "            instances_close = [i for i in range(len(belongs_to)) if belongs_to[i] == index]\n",
    "            #find the mean of those points, this is our new centroid\n",
    "            prototype = np.mean(dataset[instances_close], axis=0)\n",
    "            #add our new centroid to our new temporary list\n",
    "            tmp_prototypes[index, :] = prototype\n",
    "#         print(iteration, \"--------------------\")\n",
    "        #set the new list to the current list\n",
    "        prototypes = tmp_prototypes\n",
    "        \n",
    "        #add our calculated centroids to our history for plotting\n",
    "        history_centroids.append(tmp_prototypes)\n",
    "\n",
    "    #return calculated centroids, history of them all, and assignments for which cluster each datapoint belongs to\n",
    "    return prototypes, history_centroids, belongs_to"
   ]
  },
  {
   "cell_type": "code",
   "execution_count": 157,
   "metadata": {},
   "outputs": [],
   "source": [
    "prototypes, history_centroids, belongs_to = kmeans(k=3, epsilon=1.06, distance='euclidian', dataset= three_globs)\n",
    "# belongs_to"
   ]
  },
  {
   "cell_type": "code",
   "execution_count": 158,
   "metadata": {},
   "outputs": [
    {
     "data": {
      "text/plain": [
       "<matplotlib.legend.Legend at 0x118aa1048>"
      ]
     },
     "execution_count": 158,
     "metadata": {},
     "output_type": "execute_result"
    },
    {
     "data": {
      "image/png": "[encoded data removed]",
      "text/plain": [
       "<Figure size 864x432 with 1 Axes>"
      ]
     },
     "metadata": {
      "needs_background": "light"
     },
     "output_type": "display_data"
    }
   ],
   "source": [
    "## visualization \n",
    "plt.figure(figsize=(12,6))\n",
    "status_1 = np.where(belongs_to ==0)[0]\n",
    "status_2 = np.where(belongs_to ==1)[0]\n",
    "status_3 = np.where(belongs_to ==2)[0]\n",
    "plt.scatter(three_globs[status_1,0],three_globs[status_1,1],  marker = 'x',color = 'green', s = 40,label = 'cluster_1')\n",
    "plt.scatter(three_globs[status_2,0],three_globs[status_2,1],  marker = '+',color = 'blue', s = 40,label = 'cluster_2')\n",
    "plt.scatter(three_globs[status_3,0],three_globs[status_3,1],  marker = 'o',color = 'purple', s = 40,label = 'cluster_3')\n",
    "plt.legend(loc='upper right')"
   ]
  },
  {
   "cell_type": "markdown",
   "metadata": {},
   "source": [
    "### Evaluate Performance"
   ]
  },
  {
   "cell_type": "code",
   "execution_count": null,
   "metadata": {},
   "outputs": [],
   "source": []
  },
  {
   "cell_type": "code",
   "execution_count": null,
   "metadata": {},
   "outputs": [],
   "source": []
  },
  {
   "cell_type": "code",
   "execution_count": null,
   "metadata": {},
   "outputs": [],
   "source": []
  },
  {
   "cell_type": "code",
   "execution_count": null,
   "metadata": {},
   "outputs": [],
   "source": []
  },
  {
   "cell_type": "code",
   "execution_count": null,
   "metadata": {},
   "outputs": [],
   "source": []
  },
  {
   "cell_type": "code",
   "execution_count": null,
   "metadata": {},
   "outputs": [],
   "source": []
  },
  {
   "cell_type": "code",
   "execution_count": null,
   "metadata": {},
   "outputs": [],
   "source": []
  },
  {
   "cell_type": "code",
   "execution_count": null,
   "metadata": {},
   "outputs": [],
   "source": []
  },
  {
   "cell_type": "code",
   "execution_count": null,
   "metadata": {},
   "outputs": [],
   "source": []
  },
  {
   "cell_type": "markdown",
   "metadata": {},
   "source": [
    "## Part III: DBSCAN(15 point）"
   ]
  },
  {
   "cell_type": "markdown",
   "metadata": {},
   "source": [
    "### 1. Implementing DBSCAN"
   ]
  },
  {
   "cell_type": "code",
   "execution_count": null,
   "metadata": {},
   "outputs": [],
   "source": [
    "# step 1: identify core points and its neighbors\n",
    "# step 2: grow cluster\n",
    "# step 3: label each points, -1 for noise"
   ]
  },
  {
   "cell_type": "code",
   "execution_count": 39,
   "metadata": {},
   "outputs": [],
   "source": [
    "## loading data\n",
    "anthill = pd.read_csv('/Users/tjmask/Desktop/Semester 2/Data Mining/HW1/hw1/Homework_1/Datasets/anthill.csv')\n",
    "anthill = np.array(anthill)"
   ]
  },
  {
   "cell_type": "code",
   "execution_count": 58,
   "metadata": {},
   "outputs": [],
   "source": [
    "import numpy as np\n",
    "import math\n",
    "\n",
    "## first we need to find the noise \n",
    "'''\n",
    "there are two threshold to define a noise, the density and radius. Density can be \n",
    "thought as how many points does this point can have with given radius. When the distances\n",
    "between the choosen point with other points are less than the given radius, then the other\n",
    "points should be included in the choosen point's density. If the total number of included \n",
    "points are larger than or equal to the min number of points(threshold, hyperparameters),we say it's a \n",
    "core point. while the total number of included points are less than the min number of points, \n",
    "we can it broder points. And the others are noise, and should be removed while we are doing clustering.\n",
    "'''\n",
    "## get the distance between two points\n",
    "def dist(p,q):\n",
    "    return math.sqrt(np.power(p-q,2).sum())\n",
    "\n",
    "## find if the distance is less than given radius\n",
    "def neighborhood(p,q,radius):\n",
    "    return dist(p,q) < radius\n",
    "\n",
    "## find all neighbors of a point\n",
    "def regionScan(dataset, P, radius):\n",
    "    neighbors = []\n",
    "    # For each point in the dataset...\n",
    "    for x in range(0, len(dataset)):\n",
    "        if neighborhood(dataset[P], dataset[x], radius):\n",
    "            neighbors.append(x)\n",
    "    return neighbors\n",
    "\n",
    "def growCluster(dataset, labels, P, NeighborPts, C, radius, MinPts):\n",
    "\n",
    "    # Assign the cluster label to the seed point.\n",
    "    labels[P] = C\n",
    "    \n",
    "    i = 0\n",
    "    while i < len(NeighborPts):    \n",
    "        \n",
    "        # Get the next point from the queue.        \n",
    "        Pn = NeighborPts[i]\n",
    "       \n",
    "        # If Pn was labelled NOISE during the seed search, then we\n",
    "        # know it's not a branch point (it doesn't have enough neighbors), so\n",
    "        # make it a leaf point of cluster C and move on.\n",
    "        if labels[Pn] == -1:\n",
    "            labels[Pn] = C\n",
    "        \n",
    "        # Otherwise, if Pn isn't already claimed, claim it as part of C.\n",
    "        elif labels[Pn] == 0:\n",
    "            # Add Pn to cluster C (Assign cluster label C).\n",
    "            labels[Pn] = C\n",
    "            \n",
    "            # Find all the neighbors of Pn\n",
    "            PnNeighborPts = regionScan(dataset, Pn, radius)\n",
    "             \n",
    "            if len(PnNeighborPts) >= MinPts:\n",
    "                NeighborPts = NeighborPts + PnNeighborPts\n",
    "            else:               \n",
    "                NeighborPts = NeighborPts               \n",
    "        i += 1  \n",
    "\n",
    "                \n",
    "def DBSCAN(dataset, radius, MinPts):\n",
    "    labels = [0]*len(dataset)    \n",
    "    C = 0\n",
    "    \n",
    "    for P in range(0, len(dataset)):\n",
    "        if not (labels[P] == 0):\n",
    "            continue\n",
    "        \n",
    "        NeighborPts = regionScan(dataset, P, radius)\n",
    "        if len(NeighborPts) < MinPts:\n",
    "            labels[P] = -1    \n",
    "        else: \n",
    "            C += 1\n",
    "            growCluster(dataset, labels, P, NeighborPts, C, radius, MinPts)\n",
    "    return labels      "
   ]
  },
  {
   "cell_type": "code",
   "execution_count": 80,
   "metadata": {},
   "outputs": [
    {
     "data": {
      "text/plain": [
       "<matplotlib.legend.Legend at 0x1176e42b0>"
      ]
     },
     "execution_count": 80,
     "metadata": {},
     "output_type": "execute_result"
    },
    {
     "data": {
      "image/png": "[encoded data removed]",
      "text/plain": [
       "<Figure size 864x432 with 1 Axes>"
      ]
     },
     "metadata": {
      "needs_background": "light"
     },
     "output_type": "display_data"
    }
   ],
   "source": [
    "labels = DBSCAN(anthill, 0.2,10)\n",
    "labels = np.array(labels)\n",
    "data = anthill \n",
    "## visualiztion\n",
    "plt.figure(figsize=(12,6))\n",
    "plt.scatter(data[labels==1,0],data[labels==1,1],  marker = 'x',color = 'green', s = 40,label = 'cluster_1')\n",
    "plt.scatter(data[labels==2,0],data[labels==2,1],  marker = '+',color = 'blue', s = 40,label = 'cluster_2')\n",
    "plt.scatter(data[labels==3,0],data[labels==3,1],  marker = 'o',color = 'purple', s = 40,label = 'cluster_3')\n",
    "plt.scatter(data[labels==-1,0],data[labels==-1,1],marker = '*',color = 'red', s = 40,label = 'noise')\n",
    "plt.legend(loc='upper right')"
   ]
  },
  {
   "cell_type": "markdown",
   "metadata": {},
   "source": [
    "### Evaluate Performance"
   ]
  },
  {
   "cell_type": "code",
   "execution_count": null,
   "metadata": {},
   "outputs": [],
   "source": []
  },
  {
   "cell_type": "code",
   "execution_count": null,
   "metadata": {},
   "outputs": [],
   "source": []
  },
  {
   "cell_type": "code",
   "execution_count": null,
   "metadata": {},
   "outputs": [],
   "source": []
  },
  {
   "cell_type": "code",
   "execution_count": null,
   "metadata": {},
   "outputs": [],
   "source": []
  },
  {
   "cell_type": "code",
   "execution_count": null,
   "metadata": {},
   "outputs": [],
   "source": []
  },
  {
   "cell_type": "code",
   "execution_count": null,
   "metadata": {},
   "outputs": [],
   "source": []
  },
  {
   "cell_type": "code",
   "execution_count": null,
   "metadata": {},
   "outputs": [],
   "source": []
  },
  {
   "cell_type": "code",
   "execution_count": null,
   "metadata": {},
   "outputs": [],
   "source": []
  },
  {
   "cell_type": "code",
   "execution_count": 42,
   "metadata": {},
   "outputs": [],
   "source": [
    "import numpy as np\n",
    "import math\n",
    "\n",
    "## first we need to find the noise \n",
    "'''\n",
    "there are two threshold to define a noise, the density and radius. Density can be \n",
    "thought as how many points does this point can have with given radius. When the distances\n",
    "between the choosen point with other points are less than the given radius, then the other\n",
    "points should be included in the choosen point's density. If the total number of included \n",
    "points are larger than or equal to the min number of points(threshold, hyperparameters),we say it's a \n",
    "core point. while the total number of included points are less than the min number of points, \n",
    "we can it broder points. And the others are noise, and should be removed while we are doing clustering.\n",
    "'''\n",
    "## get the distance between two points\n",
    "def dist(p,q):\n",
    "    return math.sqrt(np.power(p-q,2).sum())\n",
    "\n",
    "\n",
    "## find if the distance is less than given radius\n",
    "def neighborhood(p,q,radius):\n",
    "    return dist(p,q) < radius\n",
    "\n",
    "## determine the status of all points(core, broder, noise)\n",
    "def status(dataset, radius, minPts):\n",
    "    point_status = np.zeros([len(dataset),1])\n",
    "    core = set()\n",
    "    for i in range(0, len(dataset)):\n",
    "        total_points = []\n",
    "        for j in range(0, len(dataset)):\n",
    "            if neighborhood(dataset[i], dataset[j],radius):\n",
    "                total_points.append(j)\n",
    "        if len(total_points) >= minPts:\n",
    "            point_status[i] = 2    ## 2 is the status of core point\n",
    "            core.add(i)         ## get the all the core points\n",
    "    ## determine border and noise points       \n",
    "    for x in range(0, len(point_status)):\n",
    "        if point_status[x] ==0:\n",
    "            for y in range(0, len(dataset)):\n",
    "                if neighborhood(dataset[x], dataset[y],radius) and point_status[y]==2:\n",
    "                    point_status[x] = 1   ## 1 is the status of border point \n",
    "    \n",
    "#     core = set([i for i in range(data.shape[0]) if len(dic[i]) >= m_points])\n",
    "    return point_status, core\n",
    "\n",
    "\n",
    "def scan(x, radius,dataset, minPts):\n",
    "    total_status, sub_core = status(dataset, radius, minPts)\n",
    "    temp_points = []\n",
    "    temp_status = []\n",
    "    for i in range(0,len(dataset)):\n",
    "        if neighborhood(dataset[x], dataset[i],radius):\n",
    "            temp_points.append(i)\n",
    "            temp_status.append(total_status[i])\n",
    "            temp_status = [i for i in temp_status if i==2]\n",
    "    return temp_status, temp_points, sub_core\n",
    "\n",
    "\n",
    "\n",
    "def dbscan(dataset,radius, minPts):\n",
    "    total_status, total_core = status(dataset, radius, minPts)\n",
    "    classification = np.zeros([len(dataset),1]); label=1\n",
    "    while (len(total_core)) > 0:\n",
    "        for x in total_core:\n",
    "            scan(x,radius, dataset, minPts)\n",
    "            total_core = total_core-sub_score\n",
    "            while True:\n",
    "                if len(sub_core)<0:\n",
    "                    classification[[temp_points]]=label\n",
    "                    break\n",
    "                else:\n",
    "                    for z in temp_point:\n",
    "                        scan(z, radius, dataset, minPts)\n",
    "                        if \n",
    "                        \n",
    "    \n",
    "    \n",
    "    \n",
    "    \n",
    "    \n",
    "    for x in range(0, len(total_status)):\n",
    "        print('==========',x)\n",
    "        cluster += 1 \n",
    "        if total_status[x] ==0:\n",
    "            classification[x] = None\n",
    "        elif total_status[x]==2:\n",
    "            ## first round scan \n",
    "            scan(x, radius, dataset, minPts)\n",
    "            while True:\n",
    "                print('---------',cluster)\n",
    "                if not any((temp_status)):\n",
    "                    classification[[temp_points]]=cluster\n",
    "                    break\n",
    "                else:\n",
    "                    while True:\n",
    "                        for z in temp_points:\n",
    "                            scan(z,radius, dataset,minPts)\n",
    "#                         classification[z]=cluster\n",
    "                            if not any((temp_status)):\n",
    "                                break\n",
    "                            else:\n",
    "                                scan(z,radius, dataset,minPts) \n",
    "            \n",
    "    return classification           "
   ]
  },
  {
   "cell_type": "code",
   "execution_count": 55,
   "metadata": {},
   "outputs": [
    {
     "ename": "TypeError",
     "evalue": "'int' object is not iterable",
     "output_type": "error",
     "traceback": [
      "\u001b[0;31m---------------------------------------------------------------------------\u001b[0m",
      "\u001b[0;31mTypeError\u001b[0m                                 Traceback (most recent call last)",
      "\u001b[0;32m<ipython-input-55-c32696b7e531>\u001b[0m in \u001b[0;36m<module>\u001b[0;34m\u001b[0m\n\u001b[1;32m      1\u001b[0m \u001b[0;31m# status(anthill, 0.2,10)\u001b[0m\u001b[0;34m\u001b[0m\u001b[0;34m\u001b[0m\u001b[0m\n\u001b[0;32m----> 2\u001b[0;31m \u001b[0ma\u001b[0m  \u001b[0;34m=\u001b[0m \u001b[0mset\u001b[0m\u001b[0;34m(\u001b[0m\u001b[0;36m1\u001b[0m\u001b[0;34m)\u001b[0m\u001b[0;34m\u001b[0m\u001b[0m\n\u001b[0m\u001b[1;32m      3\u001b[0m \u001b[0;32mif\u001b[0m \u001b[0ma\u001b[0m\u001b[0;34m:\u001b[0m\u001b[0;34m\u001b[0m\u001b[0m\n\u001b[1;32m      4\u001b[0m     \u001b[0mprint\u001b[0m\u001b[0;34m(\u001b[0m\u001b[0;36m1\u001b[0m\u001b[0;34m)\u001b[0m\u001b[0;34m\u001b[0m\u001b[0m\n",
      "\u001b[0;31mTypeError\u001b[0m: 'int' object is not iterable"
     ]
    }
   ],
   "source": [
    "# status(anthill, 0.2,10)\n",
    "a  = set(1)\n",
    "if len(a):\n",
    "    print(1)"
   ]
  },
  {
   "cell_type": "code",
   "execution_count": null,
   "metadata": {},
   "outputs": [],
   "source": []
  },
  {
   "cell_type": "code",
   "execution_count": null,
   "metadata": {},
   "outputs": [],
   "source": []
  },
  {
   "cell_type": "code",
   "execution_count": null,
   "metadata": {},
   "outputs": [],
   "source": []
  },
  {
   "cell_type": "code",
   "execution_count": null,
   "metadata": {},
   "outputs": [],
   "source": []
  },
  {
   "cell_type": "code",
   "execution_count": null,
   "metadata": {},
   "outputs": [],
   "source": []
  },
  {
   "cell_type": "code",
   "execution_count": null,
   "metadata": {},
   "outputs": [],
   "source": []
  },
  {
   "cell_type": "code",
   "execution_count": null,
   "metadata": {},
   "outputs": [],
   "source": []
  },
  {
   "cell_type": "code",
   "execution_count": null,
   "metadata": {},
   "outputs": [],
   "source": []
  },
  {
   "cell_type": "code",
   "execution_count": null,
   "metadata": {},
   "outputs": [],
   "source": []
  },
  {
   "cell_type": "code",
   "execution_count": null,
   "metadata": {},
   "outputs": [],
   "source": []
  },
  {
   "cell_type": "code",
   "execution_count": null,
   "metadata": {},
   "outputs": [],
   "source": []
  },
  {
   "cell_type": "code",
   "execution_count": null,
   "metadata": {},
   "outputs": [],
   "source": []
  },
  {
   "cell_type": "code",
   "execution_count": null,
   "metadata": {},
   "outputs": [],
   "source": []
  },
  {
   "cell_type": "code",
   "execution_count": 36,
   "metadata": {},
   "outputs": [
    {
     "ename": "TypeError",
     "evalue": "unhashable type: 'numpy.ndarray'",
     "output_type": "error",
     "traceback": [
      "\u001b[0;31m---------------------------------------------------------------------------\u001b[0m",
      "\u001b[0;31mTypeError\u001b[0m                                 Traceback (most recent call last)",
      "\u001b[0;32m<ipython-input-36-bce5dd13fbff>\u001b[0m in \u001b[0;36m<module>\u001b[0;34m\u001b[0m\n\u001b[1;32m      1\u001b[0m \u001b[0ml\u001b[0m \u001b[0;34m=\u001b[0m \u001b[0mnp\u001b[0m\u001b[0;34m.\u001b[0m\u001b[0mzeros\u001b[0m\u001b[0;34m(\u001b[0m\u001b[0;34m[\u001b[0m\u001b[0;36m3\u001b[0m\u001b[0;34m,\u001b[0m\u001b[0;36m1\u001b[0m\u001b[0;34m]\u001b[0m\u001b[0;34m)\u001b[0m\u001b[0;34m\u001b[0m\u001b[0m\n\u001b[0;32m----> 2\u001b[0;31m \u001b[0mset\u001b[0m\u001b[0;34m(\u001b[0m\u001b[0ml\u001b[0m\u001b[0;34m)\u001b[0m\u001b[0;34m\u001b[0m\u001b[0m\n\u001b[0m\u001b[1;32m      3\u001b[0m \u001b[0ml\u001b[0m\u001b[0;34m\u001b[0m\u001b[0m\n",
      "\u001b[0;31mTypeError\u001b[0m: unhashable type: 'numpy.ndarray'"
     ]
    }
   ],
   "source": [
    "l = np.zeros([3,1])\n",
    "set(l)"
   ]
  },
  {
   "cell_type": "code",
   "execution_count": 416,
   "metadata": {},
   "outputs": [
    {
     "name": "stdout",
     "output_type": "stream",
     "text": [
      "[[0.]\n",
      " [2.]\n",
      " [2.]\n",
      " [1.]\n",
      " [1.]\n",
      " [2.]\n",
      " [1.]\n",
      " [0.]\n",
      " [2.]\n",
      " [2.]]\n"
     ]
    },
    {
     "data": {
      "text/plain": [
       "array([[nan],\n",
       "       [ 2.],\n",
       "       [ 3.],\n",
       "       [ 0.],\n",
       "       [ 0.],\n",
       "       [ 6.],\n",
       "       [ 0.],\n",
       "       [nan],\n",
       "       [ 9.],\n",
       "       [10.]])"
      ]
     },
     "execution_count": 416,
     "metadata": {},
     "output_type": "execute_result"
    }
   ],
   "source": [
    "mm = status(np.array(anthill)[30:40], 0.2, 5)\n",
    "print(mm)\n",
    "cluster = 0\n",
    "classification = np.zeros([len(mm),1])\n",
    "for x in range(0, len(mm)):\n",
    "        cluster += 1 \n",
    "        if mm[x] ==0:\n",
    "            classification[x] = None\n",
    "        elif mm[x]==2:\n",
    "            classification[x]=cluster\n",
    "classification"
   ]
  },
  {
   "cell_type": "code",
   "execution_count": 434,
   "metadata": {},
   "outputs": [
    {
     "name": "stdout",
     "output_type": "stream",
     "text": [
      "========== 0\n",
      "========== 1\n",
      "========== 2\n",
      "========== 3\n",
      "--------- 4\n",
      "========== 4\n",
      "========== 5\n",
      "========== 6\n",
      "========== 7\n",
      "--------- 8\n",
      "========== 8\n",
      "========== 9\n",
      "========== 10\n",
      "========== 11\n",
      "--------- 12\n",
      "========== 12\n",
      "--------- 13\n",
      "========== 13\n",
      "========== 14\n",
      "========== 15\n",
      "--------- 16\n",
      "========== 16\n",
      "========== 17\n",
      "========== 18\n",
      "--------- 19\n",
      "========== 19\n",
      "--------- 20\n"
     ]
    },
    {
     "name": "stderr",
     "output_type": "stream",
     "text": [
      "//anaconda3/lib/python3.7/site-packages/ipykernel_launcher.py:68: FutureWarning: Using a non-tuple sequence for multidimensional indexing is deprecated; use `arr[tuple(seq)]` instead of `arr[seq]`. In the future this will be interpreted as an array index, `arr[np.array(seq)]`, which will result either in an error or a different result.\n"
     ]
    },
    {
     "data": {
      "text/plain": [
       "array([[ 0.],\n",
       "       [ 0.],\n",
       "       [ 0.],\n",
       "       [ 0.],\n",
       "       [ 0.],\n",
       "       [ 0.],\n",
       "       [ 0.],\n",
       "       [ 0.],\n",
       "       [nan],\n",
       "       [ 0.],\n",
       "       [ 0.],\n",
       "       [ 0.],\n",
       "       [ 0.],\n",
       "       [ 0.],\n",
       "       [ 0.],\n",
       "       [ 0.],\n",
       "       [ 0.],\n",
       "       [nan],\n",
       "       [ 0.],\n",
       "       [ 0.]])"
      ]
     },
     "execution_count": 434,
     "metadata": {},
     "output_type": "execute_result"
    }
   ],
   "source": [
    "dbscan(np.array(anthill)[20:40], radius=0.2, minPts=5)\n",
    "# status(np.array(anthill)[20:40], radius=0.2, minPts=5)"
   ]
  },
  {
   "cell_type": "code",
   "execution_count": 377,
   "metadata": {},
   "outputs": [
    {
     "data": {
      "text/plain": [
       "array([[-0.85287 , -0.54364 ],\n",
       "       [-0.84289 , -0.3591  ],\n",
       "       [-0.81297 , -0.26933 ],\n",
       "       [-0.79302 , -0.45885 ],\n",
       "       [-0.79302 , -0.14963 ],\n",
       "       [-0.78304 , -0.62344 ],\n",
       "       [-0.76808 , -0.0798  ],\n",
       "       [-0.70808 , -0.5798  ],\n",
       "       [-0.71808 , -0.5118  ],\n",
       "       [-0.7581  ,  0.084788],\n",
       "       [-0.75312 ,  0.17456 ],\n",
       "       [-0.73317 , -0.35411 ],\n",
       "       [-0.72818 , -0.69825 ],\n",
       "       [-0.7182  , -0.16958 ],\n",
       "       [-0.70823 , -0.43392 ],\n",
       "       [-0.70823 , -0.024938],\n",
       "       [-0.70324 , -0.22943 ],\n",
       "       [-0.70324 ,  0.23441 ],\n",
       "       [-0.69327 ,  0.34414 ]])"
      ]
     },
     "execution_count": 377,
     "metadata": {},
     "output_type": "execute_result"
    }
   ],
   "source": [
    "np.array(anthill)[1:20]"
   ]
  },
  {
   "cell_type": "code",
   "execution_count": 435,
   "metadata": {},
   "outputs": [
    {
     "ename": "TypeError",
     "evalue": "scan() missing 1 required positional argument: 'dataset'",
     "output_type": "error",
     "traceback": [
      "\u001b[0;31m---------------------------------------------------------------------------\u001b[0m",
      "\u001b[0;31mTypeError\u001b[0m                                 Traceback (most recent call last)",
      "\u001b[0;32m<ipython-input-435-0d8c5dda16ec>\u001b[0m in \u001b[0;36m<module>\u001b[0;34m\u001b[0m\n\u001b[1;32m      1\u001b[0m \u001b[0;31m# dbscan(np.array(anthill), radius=0.2, minPts=10)\u001b[0m\u001b[0;34m\u001b[0m\u001b[0;34m\u001b[0m\u001b[0m\n\u001b[0;32m----> 2\u001b[0;31m \u001b[0mscan\u001b[0m\u001b[0;34m(\u001b[0m\u001b[0mnp\u001b[0m\u001b[0;34m.\u001b[0m\u001b[0marray\u001b[0m\u001b[0;34m(\u001b[0m\u001b[0manthill\u001b[0m\u001b[0;34m)\u001b[0m\u001b[0;34m,\u001b[0m \u001b[0mradius\u001b[0m\u001b[0;34m=\u001b[0m\u001b[0;36m0.2\u001b[0m\u001b[0;34m,\u001b[0m \u001b[0mminPts\u001b[0m\u001b[0;34m=\u001b[0m\u001b[0;36m10\u001b[0m\u001b[0;34m)\u001b[0m\u001b[0;34m\u001b[0m\u001b[0m\n\u001b[0m\u001b[1;32m      3\u001b[0m \u001b[0;32mdef\u001b[0m \u001b[0mscan\u001b[0m\u001b[0;34m(\u001b[0m\u001b[0mx\u001b[0m\u001b[0;34m,\u001b[0m\u001b[0mradius\u001b[0m\u001b[0;34m,\u001b[0m\u001b[0mdataset\u001b[0m\u001b[0;34m)\u001b[0m\u001b[0;34m:\u001b[0m\u001b[0;34m\u001b[0m\u001b[0m\n\u001b[1;32m      4\u001b[0m     \u001b[0mtemp_points\u001b[0m \u001b[0;34m=\u001b[0m \u001b[0;34m[\u001b[0m\u001b[0;34m]\u001b[0m\u001b[0;34m\u001b[0m\u001b[0m\n\u001b[1;32m      5\u001b[0m     \u001b[0mtemp_status\u001b[0m \u001b[0;34m=\u001b[0m \u001b[0;34m[\u001b[0m\u001b[0;34m]\u001b[0m\u001b[0;34m\u001b[0m\u001b[0m\n",
      "\u001b[0;31mTypeError\u001b[0m: scan() missing 1 required positional argument: 'dataset'"
     ]
    }
   ],
   "source": [
    "# dbscan(np.array(anthill), radius=0.2, minPts=10)\n",
    "scan(np.array(anthill), radius=0.2, minPts=10)\n",
    "def scan(x,radius,dataset):\n",
    "    temp_points = []\n",
    "    temp_status = []\n",
    "    for i in range(0,len(dataset)):\n",
    "        if neighborhood(dataset[x], dataset[i],radius):\n",
    "            temp_points.append(i)\n",
    "            temp_status.append(point_status[i])\n",
    "            temp_status = [n for n in temp_status if n==2]\n",
    "    return temp_status, temp_points\n",
    "\n",
    "\n",
    "\n",
    "\n",
    "# # point_status = np.zeros([3,1])\n",
    "# # point_status[0]=1\n",
    "# a[[0,1]] = 3\n",
    "# a\n",
    "# x = [1,2,3]\n",
    "# x = [i for i in x if i==4]\n",
    "# if  any((x)):\n",
    "#     print(111,x)\n",
    "    \n"
   ]
  },
  {
   "cell_type": "code",
   "execution_count": null,
   "metadata": {},
   "outputs": [],
   "source": []
  },
  {
   "cell_type": "code",
   "execution_count": 182,
   "metadata": {},
   "outputs": [],
   "source": [
    "import numpy as np\n",
    "import math\n",
    "\n",
    "UNCLASSIFIED = False\n",
    "NOISE = 'Noise'\n",
    "\n",
    "def _dist(p,q):\n",
    "    return math.sqrt(np.power(p-q,2).sum())\n",
    "\n",
    "def _eps_neighborhood(p,q,eps):\n",
    "    return _dist(p,q) < eps\n",
    "\n",
    "def _region_query(dataset, point_id, eps):\n",
    "    n_points = dataset.shape[0]\n",
    "    seeds = []\n",
    "    for i in range(0, n_points):\n",
    "        if _eps_neighborhood(dataset[point_id], dataset[i], eps):\n",
    "            seeds.append(i)\n",
    "    return seeds\n",
    "\n",
    "def _expand_cluster(dataset, classifications, point_id, cluster_id, eps, min_points):\n",
    "    seeds = _region_query(dataset, point_id, eps)\n",
    "    if len(seeds) < min_points:\n",
    "        classifications[point_id] = NOISE\n",
    "        return False\n",
    "    else:\n",
    "        classifications[point_id] = cluster_id\n",
    "        for seed_id in seeds:\n",
    "            classifications[seed_id] = cluster_id\n",
    "            \n",
    "        while len(seeds) > 0:\n",
    "            current_point = seeds[0]\n",
    "            results = _region_query(dataset, current_point, eps)\n",
    "            if len(results) >= min_points:\n",
    "                for i in range(0, len(results)):\n",
    "                    result_point = results[i]\n",
    "                    if classifications[result_point] == UNCLASSIFIED or \\\n",
    "                       classifications[result_point] == NOISE:\n",
    "                        if classifications[result_point] == UNCLASSIFIED:\n",
    "                            seeds.append(result_point)\n",
    "                        classifications[result_point] = cluster_id\n",
    "            seeds = seeds[1:]\n",
    "        return True\n",
    "        \n",
    "def dbscan(dataset, eps, min_points):\n",
    "    \"\"\"Implementation of Density Based Spatial Clustering of Applications with Noise\n",
    "    See https://en.wikipedia.org/wiki/DBSCAN\n",
    "    \n",
    "    scikit-learn probably has a better implementation\n",
    "    \n",
    "    Uses Euclidean Distance as the measure\n",
    "    \n",
    "    Inputs:\n",
    "    m - A matrix whose columns are feature vectors\n",
    "    eps - Maximum distance two points can be to be regionally related\n",
    "    min_points - The minimum number of points to make a cluster\n",
    "    \n",
    "    Outputs:\n",
    "    An array with either a cluster id number or dbscan.NOISE (None) for each\n",
    "    column vector in m.\n",
    "    \"\"\"\n",
    "    cluster_id = 1\n",
    "    n_points = dataset.shape[0]\n",
    "    classifications = [UNCLASSIFIED] * n_points\n",
    "    for point_id in range(0, n_points):\n",
    "        point = dataset[point_id]\n",
    "        if classifications[point_id] == UNCLASSIFIED:\n",
    "            if _expand_cluster(dataset, classifications, point_id, cluster_id, eps, min_points):\n",
    "                cluster_id = cluster_id + 1\n",
    "    return classifications"
   ]
  },
  {
   "cell_type": "code",
   "execution_count": 183,
   "metadata": {},
   "outputs": [
    {
     "data": {
      "text/plain": [
       "['Noise',\n",
       " 1,\n",
       " 1,\n",
       " 1,\n",
       " 1,\n",
       " 1,\n",
       " 1,\n",
       " 1,\n",
       " 1,\n",
       " 1,\n",
       " 1,\n",
       " 1,\n",
       " 1,\n",
       " 1,\n",
       " 1,\n",
       " 1,\n",
       " 1,\n",
       " 1,\n",
       " 1,\n",
       " 'Noise',\n",
       " 1,\n",
       " 1,\n",
       " 1,\n",
       " 1,\n",
       " 1,\n",
       " 1,\n",
       " 1,\n",
       " 1,\n",
       " 1,\n",
       " 1,\n",
       " 1,\n",
       " 2,\n",
       " 2,\n",
       " 2,\n",
       " 2,\n",
       " 2,\n",
       " 2,\n",
       " 'Noise',\n",
       " 2,\n",
       " 2,\n",
       " 2,\n",
       " 'Noise',\n",
       " 'Noise',\n",
       " 'Noise',\n",
       " 2,\n",
       " 2,\n",
       " 2,\n",
       " 2,\n",
       " 'Noise',\n",
       " 'Noise',\n",
       " 2,\n",
       " 'Noise',\n",
       " 2,\n",
       " 'Noise',\n",
       " 2,\n",
       " 2,\n",
       " 2,\n",
       " 2,\n",
       " 2,\n",
       " 3,\n",
       " 3,\n",
       " 3,\n",
       " 3,\n",
       " 3,\n",
       " 3,\n",
       " 3,\n",
       " 3,\n",
       " 3,\n",
       " 3,\n",
       " 3,\n",
       " 3,\n",
       " 3,\n",
       " 3,\n",
       " 3,\n",
       " 3,\n",
       " 3,\n",
       " 3,\n",
       " 3,\n",
       " 3,\n",
       " 3,\n",
       " 3,\n",
       " 3,\n",
       " 3,\n",
       " 3,\n",
       " 3,\n",
       " 3,\n",
       " 3,\n",
       " 3,\n",
       " 3,\n",
       " 3,\n",
       " 3,\n",
       " 3,\n",
       " 3,\n",
       " 3,\n",
       " 3,\n",
       " 3,\n",
       " 3,\n",
       " 3,\n",
       " 3,\n",
       " 3,\n",
       " 3,\n",
       " 3,\n",
       " 3,\n",
       " 3,\n",
       " 3,\n",
       " 3,\n",
       " 'Noise',\n",
       " 'Noise']"
      ]
     },
     "execution_count": 183,
     "metadata": {},
     "output_type": "execute_result"
    }
   ],
   "source": [
    "dbscan(np.array(anthill), 0.2, 10)"
   ]
  },
  {
   "cell_type": "code",
   "execution_count": null,
   "metadata": {},
   "outputs": [],
   "source": []
  },
  {
   "cell_type": "code",
   "execution_count": null,
   "metadata": {},
   "outputs": [],
   "source": []
  },
  {
   "cell_type": "code",
   "execution_count": null,
   "metadata": {},
   "outputs": [],
   "source": []
  },
  {
   "cell_type": "code",
   "execution_count": null,
   "metadata": {},
   "outputs": [],
   "source": []
  },
  {
   "cell_type": "code",
   "execution_count": 16,
   "metadata": {},
   "outputs": [
    {
     "data": {
      "text/html": [
       "<div>\n",
       "<style scoped>\n",
       "    .dataframe tbody tr th:only-of-type {\n",
       "        vertical-align: middle;\n",
       "    }\n",
       "\n",
       "    .dataframe tbody tr th {\n",
       "        vertical-align: top;\n",
       "    }\n",
       "\n",
       "    .dataframe thead th {\n",
       "        text-align: right;\n",
       "    }\n",
       "</style>\n",
       "<table border=\"1\" class=\"dataframe\">\n",
       "  <thead>\n",
       "    <tr style=\"text-align: right;\">\n",
       "      <th></th>\n",
       "      <th>Unnamed: 0</th>\n",
       "      <th>X</th>\n",
       "      <th>Y</th>\n",
       "    </tr>\n",
       "  </thead>\n",
       "  <tbody>\n",
       "    <tr>\n",
       "      <th>0</th>\n",
       "      <td>ORB</td>\n",
       "      <td>-0.78304</td>\n",
       "      <td>0.27930</td>\n",
       "    </tr>\n",
       "    <tr>\n",
       "      <th>1</th>\n",
       "      <td>ORB</td>\n",
       "      <td>-0.75304</td>\n",
       "      <td>0.02100</td>\n",
       "    </tr>\n",
       "    <tr>\n",
       "      <th>2</th>\n",
       "      <td>ORB</td>\n",
       "      <td>-0.75810</td>\n",
       "      <td>-0.23940</td>\n",
       "    </tr>\n",
       "    <tr>\n",
       "      <th>3</th>\n",
       "      <td>ORB</td>\n",
       "      <td>-0.75312</td>\n",
       "      <td>0.20449</td>\n",
       "    </tr>\n",
       "    <tr>\n",
       "      <th>4</th>\n",
       "      <td>ORB</td>\n",
       "      <td>-0.72319</td>\n",
       "      <td>-0.28928</td>\n",
       "    </tr>\n",
       "  </tbody>\n",
       "</table>\n",
       "</div>"
      ],
      "text/plain": [
       "  Unnamed: 0        X        Y\n",
       "0        ORB -0.78304  0.27930\n",
       "1        ORB -0.75304  0.02100\n",
       "2        ORB -0.75810 -0.23940\n",
       "3        ORB -0.75312  0.20449\n",
       "4        ORB -0.72319 -0.28928"
      ]
     },
     "execution_count": 16,
     "metadata": {},
     "output_type": "execute_result"
    }
   ],
   "source": [
    "eye = pd.read_csv('/Users/tjmask/Desktop/Semester 2/Data Mining/HW1/hw1/Homework_1/Datasets/eye.csv')\n",
    "eye.head()"
   ]
  },
  {
   "cell_type": "code",
   "execution_count": 15,
   "metadata": {},
   "outputs": [
    {
     "data": {
      "text/plain": [
       "<matplotlib.collections.PathCollection at 0x11e0daf28>"
      ]
     },
     "execution_count": 15,
     "metadata": {},
     "output_type": "execute_result"
    },
    {
     "data": {
      "image/png": "[encoded data removed]",
      "text/plain": [
       "<Figure size 432x288 with 1 Axes>"
      ]
     },
     "metadata": {
      "needs_background": "light"
     },
     "output_type": "display_data"
    }
   ],
   "source": [
    "plt.scatter(eye['X'], eye['Y'])"
   ]
  },
  {
   "cell_type": "code",
   "execution_count": null,
   "metadata": {},
   "outputs": [],
   "source": [
    "def kmeans(data,init_centers,k):\n",
    "    max_step = 50 #定义迭代次数\n",
    "    epsilon = 0.001 #定义足够小的数来判断中心点位置是否变化\n",
    "\n",
    "    old_centers = init_centers\n",
    "    centers_container = [] #建立一个中心点容器，存放每一次变化后的中心点，以便后面的绘图\n",
    "    cluster_container = []\n",
    "    centers_container.append(old_centers)\n",
    "\n",
    "    for step in range(max_step):#每一次迭代\n",
    "        clusters = np.array([],dtype=int)#每一个样本点归的类\n",
    "        for each_data in data:\n",
    "            distances = np.array([])\n",
    "            for each_center in old_centers:#中心点数目\n",
    "                temp_distance = d_euc(each_data,each_center)#样本到该中心点的欧式距离\n",
    "                distances = np.append(distances,temp_distance)\n",
    "            lab = np.argmin(distances)#判断距离each_data最近的中心点#???牵引回来的是什么\n",
    "            clusters = np.append(clusters,lab)#\n",
    "        cluster_container.append(clusters)\n",
    "        new_centers = update_center(clusters,data,old_centers)\n",
    "\n",
    "        #减少多余迭代，如果都不需要更新了就不需要再迭代了，减少时间\n",
    "        difference = []\n",
    "        for each_old_center,each_new_center in zip(old_centers,new_centers):\n",
    "            difference.append(d_euc(each_old_center,each_new_center))\n",
    "\n",
    "        if(np.array(difference) < epsilon).all():\n",
    "            return centers_container, cluster_container\n",
    "\n",
    "        centers_container.append(new_centers)\n",
    "        old_centers = new_centers\n",
    "\n",
    "    return centers_container, cluster_container"
   ]
  }
 ],
 "metadata": {
  "kernelspec": {
   "display_name": "Python 3",
   "language": "python",
   "name": "python3"
  },
  "language_info": {
   "codemirror_mode": {
    "name": "ipython",
    "version": 3
   },
   "file_extension": ".py",
   "mimetype": "text/x-python",
   "name": "python",
   "nbconvert_exporter": "python",
   "pygments_lexer": "ipython3",
   "version": "3.7.0"
  }
 },
 "nbformat": 4,
 "nbformat_minor": 2
}
