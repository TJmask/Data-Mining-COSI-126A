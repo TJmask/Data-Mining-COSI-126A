{
 "cells": [
  {
   "cell_type": "markdown",
   "metadata": {},
   "source": [
    "## K-means"
   ]
  },
  {
   "cell_type": "code",
   "execution_count": 5,
   "metadata": {},
   "outputs": [],
   "source": [
    "import numpy as np\n",
    "import math\n",
    "\n",
    "# % Standard K-means clustering\n",
    "# % Inputs: data, n*d data matrix with n instances and d features\n",
    "# %         K, number of clusters\n",
    "# % Ouputs: labels, n*1 indicator matrix with elements from 1 to K\n",
    "# %         centroids, K*d centroid matrix\n",
    "# %         objV, objective function value of K-means\n",
    "# % Jie TANG by 04/25/2020 jietang@brandeis.edu\n",
    "\n",
    "def myKmeans(data, K, Maxiter=50, ObjV =math.inf, threshold = 0.01):\n",
    "    centroids = initializeCentroid(data, K)\n",
    "    for i in range(Maxiter):\n",
    "        labels, New_ObjV = assign_label(data, centroids)\n",
    "        centroids = update_centroid(data, K, labels)\n",
    "        if ObjV-New_ObjV > threshold:\n",
    "            ObjV = New_ObjV\n",
    "    return labels, centroids, ObjV\n",
    "\n",
    "## initialize k centroids randomly\n",
    "def initializeCentroid(data, K):\n",
    "    return data[np.random.choice(len(data), K, replace=False)]\n",
    "   \n",
    "## assign labels to each point\n",
    "def assign_label(data, centroids):\n",
    "     return np.array([np.argmin(np.sqrt(np.sum((data[i]-centroids)**2, axis=1))) for i in range(len(data))]),\\\n",
    "    np.sum([np.sum((data[i]-centroids)**2) for i in range(len(data))])\n",
    "\n",
    "## update the centroids\n",
    "def update_centroid(data, K, labels):\n",
    "    return np.array([np.mean(data[labels==k], axis=0) for k in range(K)])"
   ]
  },
  {
   "cell_type": "markdown",
   "metadata": {},
   "source": [
    "## Testing"
   ]
  },
  {
   "cell_type": "code",
   "execution_count": 15,
   "metadata": {},
   "outputs": [],
   "source": [
    "## importing packages\n",
    "import pandas as pd\n",
    "import numpy as np\n",
    "import matplotlib.pylab as plt\n",
    "\n",
    "## loading data\n",
    "three_globs = pd.read_csv('three_globs.csv')\n",
    "three_globs = np.array(three_globs)"
   ]
  },
  {
   "cell_type": "code",
   "execution_count": 16,
   "metadata": {},
   "outputs": [],
   "source": [
    "labels, centroids, ObjV = myKmeans(three_globs, 3)"
   ]
  },
  {
   "cell_type": "code",
   "execution_count": 17,
   "metadata": {},
   "outputs": [
    {
     "data": {
      "image/png": "[encoded data removed]",
      "text/plain": [
       "<Figure size 432x288 with 1 Axes>"
      ]
     },
     "metadata": {
      "needs_background": "light"
     },
     "output_type": "display_data"
    }
   ],
   "source": [
    "plt.scatter(three_globs[:, 0], three_globs[:, 1], marker='.', c = labels)\n",
    "plt.scatter(centroids[:, 0], centroids[:,1], c='r')\n",
    "plt.show()"
   ]
  },
  {
   "cell_type": "code",
   "execution_count": null,
   "metadata": {},
   "outputs": [],
   "source": []
  }
 ],
 "metadata": {
  "kernelspec": {
   "display_name": "Python 3",
   "language": "python",
   "name": "python3"
  },
  "language_info": {
   "codemirror_mode": {
    "name": "ipython",
    "version": 3
   },
   "file_extension": ".py",
   "mimetype": "text/x-python",
   "name": "python",
   "nbconvert_exporter": "python",
   "pygments_lexer": "ipython3",
   "version": "3.7.6"
  }
 },
 "nbformat": 4,
 "nbformat_minor": 4
}
