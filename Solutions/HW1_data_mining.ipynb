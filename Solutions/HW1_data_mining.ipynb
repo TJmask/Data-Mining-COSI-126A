{
 "cells": [
  {
   "cell_type": "markdown",
   "metadata": {},
   "source": [
    "# Section II: Programming"
   ]
  },
  {
   "cell_type": "markdown",
   "metadata": {},
   "source": [
    "## Part I: Cluster Validity (15 point)"
   ]
  },
  {
   "cell_type": "code",
   "execution_count": 66,
   "metadata": {},
   "outputs": [],
   "source": [
    "## loading packages\n",
    "from math import log\n",
    "import numpy as np\n",
    "from scipy import sparse as sp\n",
    "from scipy.special import comb\n",
    "from sklearn.utils import check_random_state\n",
    "from scipy.special import comb\n",
    "from sklearn.utils import check_X_y\n",
    "# from sklearn.utils import _safe_indexing\n",
    "# from sklearn.utils import pairwise_distances_chunked\n",
    "# from sklearn.pairwise import pairwise_distances\n",
    "from sklearn.preprocessing import LabelEncoder\n",
    "from sklearn.utils import deprecated"
   ]
  },
  {
   "cell_type": "code",
   "execution_count": 67,
   "metadata": {},
   "outputs": [],
   "source": [
    "## getting contingency_matrix \n",
    "def contingency_matrix(labels_true, labels_pred):\n",
    "    '''\n",
    "    Contingency matrix reports the intersection cardinality for every true/predicted cluster pair. \n",
    "    The contingency matrix provides sufficient statistics for all clustering metrics where \n",
    "    the samples are independent and identically distributed and one doesn’t need to account for some\n",
    "    instances not being clustered.\n",
    "    '''\n",
    "    \"\"\"Build a contingency matrix describing the relationship between labels.\n",
    "    Parameters\n",
    "    ----------\n",
    "    labels_true : int array, shape = [n_samples]\n",
    "    labels_pred : array-like of shape [n_samples]\n",
    "        Cluster labels to evaluate\n",
    "\n",
    "    Returns\n",
    "    -------\n",
    "    contingency : {array-like, sparse}, shape=[n_classes_true, n_classes_pred]\n",
    "        Matrix :math:`C` such that :math:`C_{i, j}` is the number of samples in\n",
    "        true class :math:`i` and in predicted class :math:`j`. If\n",
    "            \"\"\"\n",
    "    classes, class_idx = np.unique(labels_true, return_inverse=True)\n",
    "    clusters, cluster_idx = np.unique(labels_pred, return_inverse=True)\n",
    "    n_classes = classes.shape[0]\n",
    "    n_clusters = clusters.shape[0]\n",
    "    \n",
    "    # Using coo_matrix to accelerate simple histogram calculation,\n",
    "    # Currently, coo_matrix is faster than histogram2d for simple cases\n",
    "    contingency = sp.coo_matrix((np.ones(class_idx.shape[0]),\n",
    "                                 (class_idx, cluster_idx)),\n",
    "                                shape=(n_classes, n_clusters),\n",
    "                                dtype=np.int)\n",
    "  \n",
    "    contingency = contingency.toarray()\n",
    "        \n",
    "    return contingency"
   ]
  },
  {
   "cell_type": "code",
   "execution_count": 68,
   "metadata": {},
   "outputs": [
    {
     "data": {
      "text/plain": [
       "array([[3, 0, 0],\n",
       "       [0, 1, 1],\n",
       "       [0, 0, 2]])"
      ]
     },
     "execution_count": 68,
     "metadata": {},
     "output_type": "execute_result"
    }
   ],
   "source": [
    "## testing\n",
    "labels_true = np.array([[0,0,1,1,0,2,2]]).reshape(7,1)\n",
    "labels_pred = np.array([[0,0,2,1,0,2,2]]).reshape(7,1)\n",
    "contingency_matrix(labels_true,labels_pred)"
   ]
  },
  {
   "cell_type": "markdown",
   "metadata": {},
   "source": [
    "### Accuracry "
   ]
  },
  {
   "cell_type": "markdown",
   "metadata": {},
   "source": [
    "The accuracy is defined as the geometric mean of the pairwise precision and recall:\n",
    "accuracy = TP/(TP+FP+TN+FN)\n",
    "\n",
    "Where TP is the number of True Positive (i.e. the number of pair of points that belong to the same clusters in both the true labels and the predicted labels), FP is the number of False Positive (i.e. the number of pair of points that belong to the same clusters in the true labels and not in the predicted labels) and FN is the number of False Negative (i.e the number of pair of points that belongs in the same clusters in the predicted labels and not in the true labels).\n",
    "\n",
    "The score ranges from 0 to 1. A high value indicates a good similarity between two clusters."
   ]
  },
  {
   "cell_type": "code",
   "execution_count": 69,
   "metadata": {},
   "outputs": [],
   "source": [
    "def accuracy(truth, prediction):\n",
    "    # make sure that the shape of truth and prediction is the same\n",
    "    assert truth.shape == prediction.shape\n",
    "    \n",
    "    ## find how many clusters it has\n",
    "    num = len(np.unique(truth))\n",
    "    \n",
    "    ## find the total points\n",
    "    total_num = len(truth)\n",
    "    \n",
    "    ## create a matrix for true and predicted clusters\n",
    "    cluster_matrix = np.zeros([num,num])\n",
    "    \n",
    "    # True positive points\n",
    "    TP = 0\n",
    "    for i in range(num):\n",
    "        count = 0\n",
    "        for j in range(len(truth)):\n",
    "            if truth[j]==prediction[j]==i:\n",
    "                count += 1\n",
    "        cluster_matrix[i,i]= count\n",
    "        TP += count\n",
    "    return TP/(total_num)                    "
   ]
  },
  {
   "cell_type": "code",
   "execution_count": 70,
   "metadata": {},
   "outputs": [
    {
     "data": {
      "text/plain": [
       "0.8571428571428571"
      ]
     },
     "execution_count": 70,
     "metadata": {},
     "output_type": "execute_result"
    }
   ],
   "source": [
    "### testing\n",
    "labels_true = np.array([[0,0,1,1,0,2,2]]).reshape(7,1)\n",
    "labels_pred = np.array([[0,0,2,1,0,2,2]]).reshape(7,1)\n",
    "accuracy(labels_true,labels_pred)"
   ]
  },
  {
   "cell_type": "markdown",
   "metadata": {},
   "source": [
    "### Mutual Information"
   ]
  },
  {
   "cell_type": "markdown",
   "metadata": {},
   "source": [
    "Mutual Information between two clusterings. The Mutual Information is a measure of the similarity between two labels of the same data. Before we go into Normalized Mutual Information, we need to know Mutual Information first. And MI(U, V) = sum(P(i, j) * log(P(i, j) / P(i)P'(j)))."
   ]
  },
  {
   "cell_type": "code",
   "execution_count": 71,
   "metadata": {},
   "outputs": [],
   "source": [
    "def mutual_info_score(labels_true, labels_pred, contingency=None):\n",
    "    \"\"\"\n",
    "    Parameters\n",
    "    ----------\n",
    "    labels_true : int array, shape = [n_samples]\n",
    "        A clustering of the data into disjoint subsets.\n",
    "    labels_pred : int array-like of shape (n_samples,)\n",
    "        A clustering of the data into disjoint subsets.\n",
    "    contingency : {None, array, sparse matrix}, \\\n",
    "                  shape = [n_classes_true, n_classes_pred]\n",
    "        A contingency matrix given by the :func:`contingency_matrix` function.\n",
    "        If value is ``None``, it will be computed, otherwise the given value is\n",
    "        used, with ``labels_true`` and ``labels_pred`` ignored.\n",
    "    Returns\n",
    "    -------\n",
    "    mi : float\n",
    "       Mutual information, a non-negative value\n",
    "    Notes\n",
    "    -----\n",
    "    The logarithm used is the natural logarithm (base-e).\n",
    "  \"\"\"\n",
    "    if contingency is None:\n",
    "        contingency = contingency_matrix(labels_true, labels_pred)\n",
    "\n",
    "\n",
    "    if isinstance(contingency, np.ndarray):\n",
    "        # For an array\n",
    "        nzx, nzy = np.nonzero(contingency)\n",
    "        nz_val = contingency[nzx, nzy]\n",
    "    elif sp.issparse(contingency):\n",
    "        # For a sparse matrix\n",
    "        nzx, nzy, nz_val = sp.find(contingency)\n",
    "    else:\n",
    "        raise ValueError(\"Unsupported type for 'contingency': %s\" %\n",
    "                         type(contingency))\n",
    "\n",
    "    contingency_sum = contingency.sum()\n",
    "    pi = np.ravel(contingency.sum(axis=1))\n",
    "    pj = np.ravel(contingency.sum(axis=0))\n",
    "    log_contingency_nm = np.log(nz_val)\n",
    "    contingency_nm = nz_val / contingency_sum\n",
    "    # Don't need to calculate the full outer product, just for non-zeroes\n",
    "    outer = (pi.take(nzx).astype(np.int64, copy=False)\n",
    "             * pj.take(nzy).astype(np.int64, copy=False))\n",
    "    log_outer = -np.log(outer) + log(pi.sum()) + log(pj.sum())\n",
    "    mi = (contingency_nm * (log_contingency_nm - log(contingency_sum)) +\n",
    "          contingency_nm * log_outer)\n",
    "    return mi.sum()"
   ]
  },
  {
   "cell_type": "code",
   "execution_count": 72,
   "metadata": {},
   "outputs": [
    {
     "data": {
      "text/plain": [
       "0.8062004214655205"
      ]
     },
     "execution_count": 72,
     "metadata": {},
     "output_type": "execute_result"
    }
   ],
   "source": [
    "### testing\n",
    "labels_true = np.array([[0,0,1,1,0,2,2]]).reshape(7,1)\n",
    "labels_pred = np.array([[0,0,2,1,0,2,2]]).reshape(7,1)\n",
    "mutual_info_score(labels_true,labels_pred)"
   ]
  },
  {
   "cell_type": "markdown",
   "metadata": {},
   "source": [
    "### Normalized Mutual Information"
   ]
  },
  {
   "cell_type": "markdown",
   "metadata": {},
   "source": [
    "Given the knowledge of the ground truth class assignments labels_true and our clustering algorithm assignments of the same samples labels_pred, the Mutual Information is a function that measures the agreement of the two assignments, ignoring permutations. "
   ]
  },
  {
   "cell_type": "code",
   "execution_count": 73,
   "metadata": {},
   "outputs": [],
   "source": [
    "def entropy(labels):\n",
    "    \"\"\"Calculates the entropy for a labeling.\n",
    "    Parameters\n",
    "    ----------\n",
    "    labels : int array, shape = [n_samples]\n",
    "        The labels\n",
    "    Notes\n",
    "    -----\n",
    "    The logarithm used is the natural logarithm (base-e).\n",
    "    \"\"\"\n",
    "    if len(labels) == 0:\n",
    "        return 1.0\n",
    "    label_idx = np.unique(labels, return_inverse=True)[1]\n",
    "    pi = np.bincount(label_idx).astype(np.float64)\n",
    "    pi = pi[pi > 0]\n",
    "    pi_sum = np.sum(pi)\n",
    "    # log(a / b) should be calculated as log(a) - log(b) for\n",
    "    # possible loss of precision\n",
    "    return -np.sum((pi / pi_sum) * (np.log(pi) - log(pi_sum)))\n",
    "\n",
    "\n",
    "\n",
    "\n",
    "def _generalized_average(U, V, average_method):\n",
    "    \"\"\"Return a particular mean of two numbers.\"\"\"\n",
    "    if average_method == \"min\":\n",
    "        return min(U, V)\n",
    "    elif average_method == \"geometric\":\n",
    "        return np.sqrt(U * V)\n",
    "    elif average_method == \"arithmetic\":\n",
    "        return np.mean([U, V])\n",
    "    elif average_method == \"max\":\n",
    "        return max(U, V)\n",
    "    else:\n",
    "        raise ValueError(\"'average_method' must be 'min', 'geometric', \"\n",
    "                         \"'arithmetic', or 'max'\")\n",
    "\n",
    "\n",
    "        \n",
    "def normalized_mutual_info_score(labels_true, labels_pred,\n",
    "                                 average_method='arithmetic'):\n",
    "    \"\"\"Normalized Mutual Information between two clusterings.\n",
    "    Normalized Mutual Information (NMI) is a normalization of the Mutual\n",
    "    Information (MI) score to scale the results between 0 (no mutual\n",
    "    information) and 1 (perfect correlation). In this function, mutual\n",
    "    information is normalized by some generalized mean of ``H(labels_true)``\n",
    "    and ``H(labels_pred))``, defined by the `average_method`.\n",
    "    \n",
    "    This metric is furthermore symmetric: switching ``label_true`` with\n",
    "    ``label_pred`` will return the same score value. This can be useful to\n",
    "    measure the agreement of two independent label assignments strategies\n",
    "    on the same dataset when the real ground truth is not known.\n",
    "\n",
    "    Parameters\n",
    "    ----------\n",
    "    labels_true : int array, shape = [n_samples]\n",
    "        A clustering of the data into disjoint subsets.\n",
    "    labels_pred : int array-like of shape (n_samples,)\n",
    "        A clustering of the data into disjoint subsets.\n",
    "    average_method : string, optional (default: 'arithmetic')\n",
    "        The default value of ``average_method`` changed from 'geometric' to\n",
    "        'arithmetic'.\n",
    "    Returns\n",
    "    -------\n",
    "    nmi : float\n",
    "    \"\"\"\n",
    "    classes = np.unique(labels_true)\n",
    "    clusters = np.unique(labels_pred)\n",
    " \n",
    "    # This is a perfect match hence return 1.0.\n",
    "    if (classes.shape[0] == clusters.shape[0] == 1 or\n",
    "            classes.shape[0] == clusters.shape[0] == 0):\n",
    "        return 1.0\n",
    "    contingency = contingency_matrix(labels_true, labels_pred)\n",
    "\n",
    "    # Calculate the MI for the two clusterings\n",
    "    mi = mutual_info_score(labels_true, labels_pred,\n",
    "                           contingency=contingency)\n",
    "    # Calculate the expected value for the mutual information\n",
    "    # Calculate entropy for each labeling\n",
    "    h_true, h_pred = entropy(labels_true), entropy(labels_pred)\n",
    "    normalizer = _generalized_average(h_true, h_pred, average_method)\n",
    "    # Avoid 0.0 / 0.0 when either entropy is zero.\n",
    "    normalizer = max(normalizer, np.finfo('float64').eps)\n",
    "    nmi = mi / normalizer\n",
    "    return nmi"
   ]
  },
  {
   "cell_type": "code",
   "execution_count": 74,
   "metadata": {},
   "outputs": [
    {
     "data": {
      "text/plain": [
       "0.7739890554289096"
      ]
     },
     "execution_count": 74,
     "metadata": {},
     "output_type": "execute_result"
    }
   ],
   "source": [
    "### testing\n",
    "labels_true = np.array([[0,0,1,1,0,2,2]]).reshape(7,1)\n",
    "labels_pred = np.array([[0,0,2,1,0,2,2]]).reshape(7,1)\n",
    "normalized_mutual_info_score(labels_true,labels_pred)"
   ]
  },
  {
   "cell_type": "markdown",
   "metadata": {},
   "source": [
    "### Adjusted Rand Ind"
   ]
  },
  {
   "cell_type": "markdown",
   "metadata": {},
   "source": [
    "Rand index adjusted for chance.The Rand Index computes a similarity measure between two clusterings by considering all pairs of samples and counting pairs that are assigned in the same or different clusters in the predicted and true clusterings."
   ]
  },
  {
   "cell_type": "code",
   "execution_count": 75,
   "metadata": {},
   "outputs": [],
   "source": [
    "def _comb2(n):\n",
    "    # the exact version is faster for k == 2: use it by default globally in\n",
    "    # this module instead of the float approximate variant\n",
    "    return comb(n, 2, exact=1)\n",
    "\n",
    "\n",
    "def adjusted_rand_score(labels_true, labels_pred):\n",
    "    \"\"\"\n",
    "    The raw RI score is then \"adjusted for chance\" into the ARI score\n",
    "    using the following scheme::\n",
    "        ARI = (RI - Expected_RI) / (max(RI) - Expected_RI)\n",
    "    The adjusted Rand index is thus ensured to have a value close to\n",
    "    0.0 for random labeling independently of the number of clusters and\n",
    "    samples and exactly 1.0 when the clusterings are identical (up to\n",
    "    a permutation).\n",
    "    ARI is a symmetric measure::\n",
    "        adjusted_rand_score(a, b) == adjusted_rand_score(b, a)\n",
    "    Read more in the :ref:`User Guide <adjusted_rand_score>`.\n",
    "    Parameters\n",
    "    ----------\n",
    "    labels_true : int array, shape = [n_samples]\n",
    "        Ground truth class labels to be used as a reference\n",
    "    labels_pred : array-like of shape (n_samples,)\n",
    "        Cluster labels to evaluate\n",
    "    Returns\n",
    "    -------\n",
    "    ari : float\n",
    "       Similarity score between -1.0 and 1.0. Random labelings have an ARI\n",
    "       close to 0.0. 1.0 stands for perfect match.\n",
    "    \"\"\"\n",
    "    n_samples = labels_true.shape[0]\n",
    "    n_classes = np.unique(labels_true).shape[0]\n",
    "    n_clusters = np.unique(labels_pred).shape[0]\n",
    "\n",
    "    # Special limit cases: no clustering since the data is not split;\n",
    "    # or trivial clustering where each document is assigned a unique cluster.\n",
    "    # These are perfect matches hence return 1.0.\n",
    "    if (n_classes == n_clusters == 1 or\n",
    "            n_classes == n_clusters == 0 or\n",
    "            n_classes == n_clusters == n_samples):\n",
    "        return 1.0\n",
    "\n",
    "    # Compute the ARI using the contingency data\n",
    "    contingency = contingency_matrix(labels_true, labels_pred)\n",
    "    sum_comb_c = sum(_comb2(n_c) for n_c in np.ravel(contingency.sum(axis=1)))\n",
    "    sum_comb_k = sum(_comb2(n_k) for n_k in np.ravel(contingency.sum(axis=0)))\n",
    "    sum_comb = sum(_comb2(n_ij) for n_ij in np.ravel(contingency.data))\n",
    "    \n",
    "    prod_comb = (sum_comb_c * sum_comb_k) / _comb2(n_samples)\n",
    "    mean_comb = (sum_comb_k + sum_comb_c) / 2.\n",
    "    return (sum_comb - prod_comb) / (mean_comb - prod_comb)"
   ]
  },
  {
   "cell_type": "code",
   "execution_count": 76,
   "metadata": {},
   "outputs": [
    {
     "data": {
      "text/plain": [
       "0.631578947368421"
      ]
     },
     "execution_count": 76,
     "metadata": {},
     "output_type": "execute_result"
    }
   ],
   "source": [
    "### testing\n",
    "labels_true = np.array([[0,0,1,1,0,2,2]]).reshape(7,1)\n",
    "labels_pred = np.array([[0,0,2,1,0,2,2]]).reshape(7,1)\n",
    "adjusted_rand_score(labels_true,labels_pred)"
   ]
  },
  {
   "cell_type": "markdown",
   "metadata": {},
   "source": [
    "### silhouette_score"
   ]
  },
  {
   "cell_type": "markdown",
   "metadata": {},
   "source": [
    "Silhouette analysis can be used to study the separation distance between the resulting clusters. The silhouette plot displays a measure of how close each point in one cluster is to points in the neighboring clusters and thus provides a way to assess parameters like number of clusters visually. This measure has a range of [-1, 1]. The Silhouette Coefficient is calculated using the mean intra-cluster distance (a) and the mean nearest-cluster distance (b) for each sample. The Silhouette Coefficient for a sample is (b - a) / max(a, b). To clarify, b is the distance between a sample and the nearest cluster that the sample is not a part of. Note that Silhouette Coefficient is only defined if number of labels is 2 <= n_labels <= n_samples - 1."
   ]
  },
  {
   "cell_type": "code",
   "execution_count": 77,
   "metadata": {},
   "outputs": [],
   "source": [
    "def silhouette_score(X, labels, metric='euclidean', sample_size=None,\n",
    "                     random_state=None, **kwds):\n",
    "    '''\n",
    "    The Silhouette Coefficient is a measure of how well samples are clustered\n",
    "    with samples that are similar to themselves. Clustering models with a high\n",
    "    Silhouette Coefficient are said to be dense, where samples in the same\n",
    "    cluster are similar to each other, and well separated, where samples in\n",
    "    different clusters are not very similar to each other.\n",
    "    '''\n",
    "    '''\n",
    "    X : array [n_samples_a, n_samples_a] if metric == \"precomputed\", or, \\\n",
    "             [n_samples_a, n_features] otherwise\n",
    "        Array of pairwise distances between samples, or a feature array.\n",
    "    labels : array, shape = [n_samples]\n",
    "         Predicted labels for each sample.\n",
    "         \n",
    "    sample_size : int or None\n",
    "        The size of the sample to use when computing the Silhouette Coefficient\n",
    "        on a random subset of the data.\n",
    "        If ``sample_size is None``, no sampling is used.\n",
    "    random_state : int, RandomState instance or None, optional (default=None)\n",
    "        The generator used to randomly select a subset of samples.  If int,\n",
    "        random_state is the seed used by the random number generator; If\n",
    "        RandomState instance, random_state is the random number generator; If\n",
    "        None, the random number generator is the RandomState instance used by\n",
    "        `np.random`. Used when ``sample_size is not None``.\n",
    "    **kwds : optional keyword parameters\n",
    "        Any further parameters are passed directly to the distance function.\n",
    "        If using a scipy.spatial.distance metric, the parameters are still\n",
    "        metric dependent. See the scipy docs for usage examples.\n",
    "    Returns\n",
    "    -------\n",
    "    silhouette : float\n",
    "        Mean Silhouette Coefficient for all samples.\n",
    "    References\n",
    "   '''\n",
    "    if sample_size is not None:\n",
    "        X, labels = check_X_y(X, labels, accept_sparse=['csc', 'csr'])\n",
    "        random_state = check_random_state(random_state)\n",
    "        indices = random_state.permutation(X.shape[0])[:sample_size]\n",
    "        if metric == \"precomputed\":\n",
    "            X, labels = X[indices].T[indices].T, labels[indices]\n",
    "        else:\n",
    "            X, labels = X[indices], labels[indices]\n",
    "    return np.mean(silhouette_samples(X, labels, metric=metric, **kwds))"
   ]
  },
  {
   "cell_type": "markdown",
   "metadata": {},
   "source": [
    "## Part II: K-Means Clustering"
   ]
  },
  {
   "cell_type": "code",
   "execution_count": 243,
   "metadata": {},
   "outputs": [
    {
     "data": {
      "text/plain": [
       "array([[-7.8803e-01,  4.9875e-02],\n",
       "       [-6.6334e-01, -2.2204e-16],\n",
       "       [-7.5312e-01, -4.9875e-03],\n",
       "       [-4.9377e-01, -1.4963e-02],\n",
       "       [-8.2294e-01, -1.9950e-02]])"
      ]
     },
     "execution_count": 243,
     "metadata": {},
     "output_type": "execute_result"
    }
   ],
   "source": [
    "## importing packages\n",
    "import pandas as pd\n",
    "import numpy as np\n",
    "import matplotlib.pylab as plt\n",
    "\n",
    "## loading data\n",
    "three_globs = pd.read_csv('/Users/tjmask/Desktop/Semester 2/Data Mining/HW1/hw1/Homework_1/Datasets/three_globs.csv')\n",
    "three_globs_df = three_globs\n",
    "three_globs = np.array(three_globs)\n",
    "three_globs[0:5]"
   ]
  },
  {
   "cell_type": "markdown",
   "metadata": {},
   "source": [
    "### Implementing K-means"
   ]
  },
  {
   "cell_type": "code",
   "execution_count": 443,
   "metadata": {},
   "outputs": [],
   "source": [
    "## loading packages \n",
    "import numpy as np\n",
    "import matplotlib.pyplot as plt\n",
    "import matplotlib.animation as animation\n",
    "# from sklearn import random_state\n",
    "from sklearn.metrics.pairwise import euclidean_distances\n",
    "from sklearn.utils.extmath import row_norms, squared_norm, stable_cumsum"
   ]
  },
  {
   "cell_type": "code",
   "execution_count": 467,
   "metadata": {},
   "outputs": [],
   "source": [
    "def k_plus_plus(X, n_clusters, x_squared_norms, random_state,n_local_trials=None):\n",
    "    \"\"\"\n",
    "    Parameters\n",
    "    ----------\n",
    "    X : array or sparse matrix, shape (n_samples, n_features)\n",
    "        The data to pick seeds for. To avoid memory copy    \n",
    "    n_clusters : integer\n",
    "        The number of seeds to choose\n",
    "    x_squared_norms : array, shape (n_samples,)\n",
    "        Squared Euclidean norm of each data point.\n",
    "    random_state : int, RandomState instance\n",
    "        The generator used to initialize the centers. Use an int to make the\n",
    "        randomness deterministic.\n",
    "    n_local_trials : integer, optional\n",
    "        The number of seeding trials for each center (except the first),\n",
    "        of which the one reducing inertia the most is greedily chosen.\n",
    "        Set to None to make the number of trials depend logarithmically\n",
    "        on the number of seeds (2+log(k)); this is the default.\n",
    "    \"\"\"\n",
    "    n_samples, n_features = X.shape\n",
    "\n",
    "    centers = np.empty((n_clusters, n_features), dtype=X.dtype)\n",
    "\n",
    "    assert x_squared_norms is not None, 'x_squared_norms None in _k_init'\n",
    "\n",
    "\n",
    "    # Pick first center randomly\n",
    "    center_id = np.random.randint(n_samples)\n",
    "    if sp.issparse(X):\n",
    "        centers[0] = X[center_id].toarray()\n",
    "    else:\n",
    "        centers[0] = X[center_id]\n",
    "\n",
    "    # Initialize list of closest distances and calculate current potential\n",
    "    closest_dist_sq = euclidean_distances(\n",
    "        centers[0, np.newaxis], X, Y_norm_squared=x_squared_norms,\n",
    "        squared=True)\n",
    "    current_pot = closest_dist_sq.sum()\n",
    "\n",
    "    # Pick the remaining n_clusters-1 points\n",
    "    for c in range(1, n_clusters):\n",
    "        # Choose center candidates by sampling with probability proportional\n",
    "        # to the squared distance to the closest existing center\n",
    "        rand_vals = np.random.random_sample(n_local_trials) * current_pot\n",
    "        candidate_ids = np.searchsorted(stable_cumsum(closest_dist_sq),\n",
    "                                        rand_vals)\n",
    "        \n",
    "        \n",
    "        # XXX: numerical imprecision can result in a candidate_id out of range\n",
    "#         np.clip(candidate_ids, None, closest_dist_sq.size - 1,\n",
    "#                 out=candidate_ids)\n",
    "\n",
    "        # Compute distances to center candidates \n",
    "        distance_to_candidates = euclidean_distances(\n",
    "            X[candidate_ids].reshape(1,-1), X, Y_norm_squared=x_squared_norms, squared=True)\n",
    "        \n",
    "        # update closest distances squared and potential for each candidate\n",
    "        np.minimum(closest_dist_sq, distance_to_candidates,\n",
    "                   out=distance_to_candidates)\n",
    "        candidates_pot = distance_to_candidates.sum(axis=0)\n",
    "        # Decide which candidate is the best\n",
    "        best_candidate = np.argmin(candidates_pot)\n",
    "        current_pot = candidates_pot[best_candidate]\n",
    "        closest_dist_sq = distance_to_candidates[best_candidate]\n",
    "        \n",
    "#         best_candidate = candidate_ids[best_candidate]\n",
    "\n",
    "        # Permanently add best center candidate found in local tries\n",
    "        if sp.issparse(X):\n",
    "            centers[c] = X[best_candidate].toarray()\n",
    "        else:\n",
    "            centers[c] = X[best_candidate]\n",
    "\n",
    "    return centers"
   ]
  },
  {
   "cell_type": "code",
   "execution_count": 471,
   "metadata": {},
   "outputs": [
    {
     "data": {
      "text/plain": [
       "array([[-0.75312  , -0.0049875],\n",
       "       [-0.78803  ,  0.049875 ]])"
      ]
     },
     "execution_count": 471,
     "metadata": {},
     "output_type": "execute_result"
    }
   ],
   "source": [
    "x_squared_norms = three_globs.sum(axis=1)\n",
    "k_plus_plus(three_globs, 2, x_squared_norms, 42)"
   ]
  },
  {
   "cell_type": "code",
   "execution_count": 474,
   "metadata": {},
   "outputs": [],
   "source": [
    "def global_kmeans(dataset, global_k):\n",
    "        ## if we only have 1 centers, then, the best is the mean of each column \n",
    "        if global_k == 1:\n",
    "            centers = np.mean(dataset, axis=0)\n",
    "            return centers\n",
    "        else:\n",
    "            n_samples = dataset.shape[0]\n",
    "            pre_centers = global_kmeans(global_k - 1)\n",
    "\n",
    "            # avoid the overlap in centroids\n",
    "            for i in range(n_samples):\n",
    "                seed = dataset.random_state.permutation(n_samples)[i]\n",
    "                candidate = dataset[seed:seed + 1]\n",
    "                if not np.array([candidate == preCenters[i:i + 1] for i in range(pre_centers.shape[0])]).any():\n",
    "                    break\n",
    "\n",
    "            centers = np.concatenate((pre_centers, candidate), axis=0)\n",
    "            if global_k == k:\n",
    "                return centers\n",
    "            else:\n",
    "                _, centers, _ = kmeans(centers)\n",
    "                return centers"
   ]
  },
  {
   "cell_type": "code",
   "execution_count": 503,
   "metadata": {},
   "outputs": [],
   "source": [
    "#euclidian distance between 2 data points. \n",
    "def euclidian(a, b):\n",
    "    return np.linalg.norm(a-b)\n",
    "\n",
    "\n",
    "## randomly choose centroid \n",
    "def kmeans(k, epsilon=0.001, distance='euclidian', dataset=None):\n",
    "    #list to store old centroid\n",
    "    history_centroids = []\n",
    "    #set the distance calculation type \n",
    "    if distance == 'euclidian':\n",
    "        dist_method = euclidian\n",
    "    ## converting data into array\n",
    "    dataset = np.array(dataset)\n",
    "    # get the number of rows (instances) and columns (features) from the dataset\n",
    "    num_instances, num_features = dataset.shape\n",
    "    # initialize k centroids chosen randomly \n",
    "    prototypes = dataset[np.random.randint(0, num_instances - 1, size=k)] ## k*2 matrix\n",
    "    #set these to our list of past centroid (to show progress over time)\n",
    "    history_centroids.append(prototypes)\n",
    "    #to keep track of centroid at every iteration\n",
    "    prototypes_old = np.zeros(prototypes.shape) ## k*2 matrix\n",
    "    #to store clusters\n",
    "    belongs_to = np.zeros((num_instances, 1)) ## n*1 matrix\n",
    "    norm = dist_method(prototypes, prototypes_old) \n",
    "    iteration = 0\n",
    "    while norm > epsilon:\n",
    "        iteration += 1\n",
    "        norm = dist_method(prototypes, prototypes_old)\n",
    "        #for each instance in the dataset\n",
    "        for index_instance, instance in enumerate(dataset):\n",
    "            #define a distance vector of size k\n",
    "            dist_vec = np.zeros((k,1))\n",
    "            #for each centroid\n",
    "            for index_prototype, prototype in enumerate(prototypes): ## 2*1 \n",
    "                #compute the distance between x and centroid\n",
    "                dist_vec[index_prototype] = dist_method(prototype, instance)\n",
    "            #find the smallest distance, assign that distance to a cluster\n",
    "            belongs_to[index_instance, 0] = np.argmin(dist_vec) ## the location\n",
    "#         print(iteration, \"=================\", norm)\n",
    "        tmp_prototypes = np.zeros((k, num_features)) ## k*2 matrix\n",
    "        \n",
    "        # update centriods for each cluster\n",
    "        for index in range(k):\n",
    "            #get all the points assigned to a cluster\n",
    "            instances_close = [i for i in range(len(belongs_to)) if belongs_to[i] == index]\n",
    "            #find the mean of those points, this is our new centroid\n",
    "            prototype = np.mean(dataset[instances_close], axis=0)\n",
    "            #add our new centroid to our new temporary list\n",
    "            tmp_prototypes[index, :] = prototype\n",
    "#         print(iteration, \"--------------------\")\n",
    "        #set the new list to the current list\n",
    "        prototypes = tmp_prototypes\n",
    "        \n",
    "        #add our calculated centroids to our history for plotting\n",
    "        history_centroids.append(tmp_prototypes)\n",
    "\n",
    "    #return calculated centroids, history of them all, and assignments for which cluster each datapoint belongs to\n",
    "    return prototypes, history_centroids, belongs_to"
   ]
  },
  {
   "cell_type": "code",
   "execution_count": 504,
   "metadata": {},
   "outputs": [],
   "source": [
    "prototypes, history_centroids, belongs_to= kmeans(k=3, \n",
    "                                                  epsilon=1.06, \n",
    "                                                  distance='euclidian', \n",
    "                                                  dataset= three_globs)"
   ]
  },
  {
   "cell_type": "code",
   "execution_count": 229,
   "metadata": {},
   "outputs": [
    {
     "data": {
      "text/plain": [
       "<matplotlib.legend.Legend at 0x1a2054e518>"
      ]
     },
     "execution_count": 229,
     "metadata": {},
     "output_type": "execute_result"
    },
    {
     "data": {
      "image/png": "[encoded data removed]",
      "text/plain": [
       "<Figure size 864x432 with 1 Axes>"
      ]
     },
     "metadata": {
      "needs_background": "light"
     },
     "output_type": "display_data"
    }
   ],
   "source": [
    "## visualization \n",
    "plt.figure(figsize=(12,6))\n",
    "status_1 = np.where(belongs_to ==0)[0]\n",
    "status_2 = np.where(belongs_to ==1)[0]\n",
    "status_3 = np.where(belongs_to ==2)[0]\n",
    "plt.scatter(three_globs[status_1,0],three_globs[status_1,1],  marker = 'x',color = 'green', s = 40,label = 'cluster_1')\n",
    "plt.scatter(three_globs[status_2,0],three_globs[status_2,1],  marker = '+',color = 'blue', s = 40,label = 'cluster_2')\n",
    "plt.scatter(three_globs[status_3,0],three_globs[status_3,1],  marker = 'o',color = 'purple', s = 40,label = 'cluster_3')\n",
    "plt.legend(loc='upper right')"
   ]
  },
  {
   "cell_type": "markdown",
   "metadata": {},
   "source": [
    "### Evaluate Performance"
   ]
  },
  {
   "cell_type": "code",
   "execution_count": 287,
   "metadata": {},
   "outputs": [],
   "source": [
    "## converting the true labels\n",
    "label_true = np.zeros([len(three_globs_df),1])\n",
    "\n",
    "for i in range(len(three_globs_df.index)):\n",
    "    if three_globs_df.index[i] == 'GLOB_1':\n",
    "        label_true[i] = 1\n",
    "    if three_globs_df.index[i] == 'GLOB_2':\n",
    "        label_true[i] = 0\n",
    "    if three_globs_df.index[i] == 'GLOB_3':\n",
    "        label_true[i] = 2\n",
    "        \n",
    "label_pred = belongs_to"
   ]
  },
  {
   "cell_type": "code",
   "execution_count": 303,
   "metadata": {},
   "outputs": [
    {
     "name": "stdout",
     "output_type": "stream",
     "text": [
      "accuracy_socre is 1.000000, normalized_mutual_info_score is 1.000000, adjusted_rand_score is 1.000000.\n"
     ]
    }
   ],
   "source": [
    "## evaluation using accuracy\n",
    "accuracy_socre = accuracy(label_true, label_pred)\n",
    "\n",
    "## evaluation using normalized_mutual_info_score\n",
    "NMI_score = normalized_mutual_info_score(label_true, label_pred)\n",
    "\n",
    "## evaluation using adjusted_rand_score\n",
    "ARI_score = adjusted_rand_score(label_true, label_pred)\n",
    "\n",
    "print('accuracy_socre is %f,' %accuracy_socre,\\\n",
    "      'normalized_mutual_info_score is %f,' %NMI_score,\\\n",
    "      'adjusted_rand_score is %f.' %ARI_score)"
   ]
  },
  {
   "cell_type": "markdown",
   "metadata": {},
   "source": [
    "From the result, we can see that, the three external measurements have the same results. And all of them is 1.0, which means the clustering is very good!"
   ]
  },
  {
   "cell_type": "code",
   "execution_count": 506,
   "metadata": {},
   "outputs": [],
   "source": [
    "## run 10 times and do the recording\n",
    "from time import *\n",
    "times = np.zeros([10,1])\n",
    "for i in range(10):\n",
    "    begin_time = time()\n",
    "    kmeans(k=3, epsilon=1.06, distance='euclidian', dataset= three_globs)\n",
    "    end_time = time()\n",
    "    run_time = end_time-begin_time\n",
    "    times[i] = run_time"
   ]
  },
  {
   "cell_type": "code",
   "execution_count": 507,
   "metadata": {},
   "outputs": [
    {
     "data": {
      "text/plain": [
       "array([[1.56800747e-02],\n",
       "       [6.89029694e-05],\n",
       "       [8.18514824e-03],\n",
       "       [5.38825989e-05],\n",
       "       [3.83067131e-03],\n",
       "       [4.28700447e-03],\n",
       "       [4.82678413e-03],\n",
       "       [8.24308395e-03],\n",
       "       [5.73897362e-03],\n",
       "       [5.14101982e-03]])"
      ]
     },
     "execution_count": 507,
     "metadata": {},
     "output_type": "execute_result"
    }
   ],
   "source": [
    "times"
   ]
  },
  {
   "cell_type": "code",
   "execution_count": 512,
   "metadata": {},
   "outputs": [
    {
     "name": "stdout",
     "output_type": "stream",
     "text": [
      "Average running time is 0.005606\n"
     ]
    }
   ],
   "source": [
    "print('Average running time is %f' %np.mean(times))"
   ]
  },
  {
   "cell_type": "markdown",
   "metadata": {},
   "source": [
    "#### Hartigan KMeans"
   ]
  },
  {
   "cell_type": "code",
   "execution_count": null,
   "metadata": {},
   "outputs": [],
   "source": [
    "from sklearn.cluster import KMeans\n",
    "from numpy import array\n",
    "\n",
    "def hartigan_K(list_of_tuples, threshold = 12):\n",
    "    # 'list_of_tuples' is a list containing the points you want to cluster\n",
    "    # 'threshold' optimizes goodness of fit values\n",
    "    # returns integer, \"correct\" number of clusters\n",
    "    \n",
    "    inertia_list = zeros(len(list_of_tuples)+1) # initializes for maximum possible clusters\n",
    "    num = 0                                     # counter\n",
    "    H_Rule = threshold+1                        # simply initializes above threshold to meet 'while' condition\n",
    "    \n",
    "    # NOTE: 'inertia' is equivalent to the sum of within-cluster distances to centroids\n",
    "    \n",
    "    while num < len(list_of_tuples) and H_Rule > threshold:\n",
    "        kmn = KMeans(n_clusters = num+1)\n",
    "        kmn.fit(list_of_tuples)\n",
    "        inertia_list[num+1]+=kmn.inertia_\n",
    "        if num > 0:\n",
    "            H_Rule = ((float(inertia_list[num])/inertia_list[num+1])-1)*(len(list_of_tuples)-(num)-1)\n",
    "        num+=1\n",
    "    \n",
    "    if H_Rule > threshold:\n",
    "        num+=1\n",
    "\n",
    "    # (where N is the number of points under observation)\n",
    "    \n",
    "    return num-1"
   ]
  },
  {
   "cell_type": "markdown",
   "metadata": {},
   "source": [
    "## Part III: DBSCAN(15 point）"
   ]
  },
  {
   "cell_type": "markdown",
   "metadata": {},
   "source": [
    "### 1. Implementing DBSCAN"
   ]
  },
  {
   "cell_type": "code",
   "execution_count": null,
   "metadata": {},
   "outputs": [],
   "source": [
    "# step 1: identify core points and its neighbors\n",
    "# step 2: grow cluster\n",
    "# step 3: label each points, -1 for noise"
   ]
  },
  {
   "cell_type": "code",
   "execution_count": 304,
   "metadata": {},
   "outputs": [],
   "source": [
    "## loading data\n",
    "anthill = pd.read_csv('/Users/tjmask/Desktop/Semester 2/Data Mining/HW1/hw1/Homework_1/Datasets/anthill.csv')\n",
    "anthill_df = anthill\n",
    "anthill = np.array(anthill)"
   ]
  },
  {
   "cell_type": "code",
   "execution_count": 305,
   "metadata": {},
   "outputs": [],
   "source": [
    "################### Notes: only 38 lines and deserve 5 bonus points ##########################\n",
    "\n",
    "## first we need to find the noise \n",
    "'''\n",
    "there are two threshold to define a noise, the density and radius. Density can be \n",
    "thought as how many points does this point can have with given radius. When the distances\n",
    "between the choosen point with other points are less than the given radius, then the other\n",
    "points should be included in the choosen point's density. If the total number of included \n",
    "points are larger than or equal to the min number of points(threshold, hyperparameters),we say it's a \n",
    "core point. while the total number of included points are less than the min number of points, \n",
    "we can it broder points. And the others are noise, and should be removed while we are doing clustering.\n",
    "'''\n",
    "## get the distance between two points\n",
    "def dist(p,q):\n",
    "    return math.sqrt(np.power(p-q,2).sum())\n",
    "\n",
    "## find if the distance is less than given radius\n",
    "def neighborhood(p,q,radius):\n",
    "    return dist(p,q) < radius\n",
    "\n",
    "## find all neighbors of a point\n",
    "def regionScan(dataset, P, radius):\n",
    "    neighbors = []\n",
    "    # For each point in the dataset...\n",
    "    for x in range(0, len(dataset)):\n",
    "        if neighborhood(dataset[P], dataset[x], radius):\n",
    "            neighbors.append(x)\n",
    "    return neighbors\n",
    "\n",
    "def growCluster(dataset, labels, P, NeighborPts, C, radius, MinPts):\n",
    "\n",
    "    # Assign the cluster label to the seed point.\n",
    "    labels[P] = C\n",
    "    \n",
    "    i = 0\n",
    "    while i < len(NeighborPts):    \n",
    "        \n",
    "        # Get the next point from the queue.        \n",
    "        Pn = NeighborPts[i]\n",
    "       \n",
    "        # If Pn was labelled NOISE during the seed search, then we\n",
    "        # know it's not a branch point (it doesn't have enough neighbors), so\n",
    "        # make it a leaf point of cluster C and move on.\n",
    "        if labels[Pn] == -1:\n",
    "            labels[Pn] = C\n",
    "        \n",
    "        # Otherwise, if Pn isn't already claimed, claim it as part of C.\n",
    "        elif labels[Pn] == 0:\n",
    "            # Add Pn to cluster C (Assign cluster label C).\n",
    "            labels[Pn] = C\n",
    "            \n",
    "            # Find all the neighbors of Pn\n",
    "            PnNeighborPts = regionScan(dataset, Pn, radius)\n",
    "             \n",
    "            if len(PnNeighborPts) >= MinPts:\n",
    "                NeighborPts = NeighborPts + PnNeighborPts\n",
    "            else:               \n",
    "                NeighborPts = NeighborPts               \n",
    "        i += 1  \n",
    "               \n",
    "def DBSCAN(dataset, radius, MinPts):\n",
    "    labels = [0]*len(dataset)    \n",
    "    C = 0\n",
    "    \n",
    "    for P in range(0, len(dataset)):\n",
    "        if not (labels[P] == 0):\n",
    "            continue\n",
    "        \n",
    "        NeighborPts = regionScan(dataset, P, radius)\n",
    "        if len(NeighborPts) < MinPts:\n",
    "            labels[P] = -1    \n",
    "        else: \n",
    "            C += 1\n",
    "            growCluster(dataset, labels, P, NeighborPts, C, radius, MinPts)\n",
    "    return labels      "
   ]
  },
  {
   "cell_type": "code",
   "execution_count": 306,
   "metadata": {},
   "outputs": [
    {
     "data": {
      "text/plain": [
       "<matplotlib.legend.Legend at 0x1a207638d0>"
      ]
     },
     "execution_count": 306,
     "metadata": {},
     "output_type": "execute_result"
    },
    {
     "data": {
      "image/png": "[encoded data removed]",
      "text/plain": [
       "<Figure size 864x432 with 1 Axes>"
      ]
     },
     "metadata": {
      "needs_background": "light"
     },
     "output_type": "display_data"
    }
   ],
   "source": [
    "labels = DBSCAN(anthill, 0.2,10)\n",
    "labels = np.array(labels)\n",
    "data = anthill \n",
    "## visualiztion\n",
    "plt.figure(figsize=(12,6))\n",
    "plt.scatter(data[labels==1,0],data[labels==1,1],  marker = 'x',color = 'green', s = 40,label = 'cluster_1')\n",
    "plt.scatter(data[labels==2,0],data[labels==2,1],  marker = '+',color = 'blue', s = 40,label = 'cluster_2')\n",
    "plt.scatter(data[labels==3,0],data[labels==3,1],  marker = 'o',color = 'purple', s = 40,label = 'cluster_3')\n",
    "plt.scatter(data[labels==-1,0],data[labels==-1,1],marker = '*',color = 'red', s = 40,label = 'noise')\n",
    "plt.legend(loc='upper right')"
   ]
  },
  {
   "cell_type": "markdown",
   "metadata": {},
   "source": [
    "### Evaluate Performance"
   ]
  },
  {
   "cell_type": "code",
   "execution_count": 332,
   "metadata": {},
   "outputs": [],
   "source": [
    "## converting the true labels\n",
    "dbscan_label_true = np.zeros(len(anthill_df))\n",
    "\n",
    "for i in range(len(anthill_df.index)):\n",
    "    if anthill_df.index[i] == 'LEFT':\n",
    "        dbscan_label_true[i] = 1\n",
    "    if anthill_df.index[i] == 'CENTER':\n",
    "        dbscan_label_true[i] = 2\n",
    "    if anthill_df.index[i] == 'RIGHT':\n",
    "        dbscan_label_true[i] = 3\n",
    "        \n",
    "db_scan_label_pred = labels"
   ]
  },
  {
   "cell_type": "code",
   "execution_count": 335,
   "metadata": {},
   "outputs": [
    {
     "data": {
      "text/plain": [
       "(array([1., 1., 1., 1., 1., 1., 1., 1., 1., 1., 1., 1., 1., 1., 1., 1., 1.,\n",
       "        1., 1., 1., 1., 1., 1., 1., 1., 1., 1., 1., 1., 1., 1., 2., 2., 2.,\n",
       "        2., 2., 2., 2., 2., 2., 2., 2., 2., 2., 2., 2., 2., 2., 2., 2., 2.,\n",
       "        2., 2., 2., 2., 2., 2., 2., 2., 3., 3., 3., 3., 3., 3., 3., 3., 3.,\n",
       "        3., 3., 3., 3., 3., 3., 3., 3., 3., 3., 3., 3., 3., 3., 3., 3., 3.,\n",
       "        3., 3., 3., 3., 3., 3., 3., 3., 3., 3., 3., 3., 3., 3., 3., 3., 3.,\n",
       "        3., 3., 3., 3., 3., 3.]),\n",
       " array([-1,  1,  1,  1,  1,  1,  1,  1,  1,  1,  1,  1,  1,  1,  1,  1,  1,\n",
       "         1,  1, -1,  1,  1,  1,  1,  1,  1,  1,  1,  1,  1,  1,  2,  2,  2,\n",
       "         2,  2,  2, -1,  2,  2,  2, -1, -1, -1,  2,  2,  2,  2, -1, -1,  2,\n",
       "        -1,  2, -1,  2,  2,  2,  2,  2,  3,  3,  3,  3,  3,  3,  3,  3,  3,\n",
       "         3,  3,  3,  3,  3,  3,  3,  3,  3,  3,  3,  3,  3,  3,  3,  3,  3,\n",
       "         3,  3,  3,  3,  3,  3,  3,  3,  3,  3,  3,  3,  3,  3,  3,  3,  3,\n",
       "         3,  3,  3,  3, -1, -1]))"
      ]
     },
     "execution_count": 335,
     "metadata": {},
     "output_type": "execute_result"
    }
   ],
   "source": [
    "dbscan_label_true,db_scan_label_pred"
   ]
  },
  {
   "cell_type": "code",
   "execution_count": 334,
   "metadata": {},
   "outputs": [
    {
     "name": "stdout",
     "output_type": "stream",
     "text": [
      "accuracy_socre is 0.453704, normalized_mutual_info_score is 0.829994, adjusted_rand_score is 0.863202.\n"
     ]
    }
   ],
   "source": [
    "## evaluation using accuracy\n",
    "accuracy_socre = accuracy(dbscan_label_true, db_scan_label_pred)\n",
    "\n",
    "## evaluation using normalized_mutual_info_score\n",
    "NMI_score = normalized_mutual_info_score(dbscan_label_true, db_scan_label_pred)\n",
    "\n",
    "## evaluation using adjusted_rand_score\n",
    "ARI_score = adjusted_rand_score(dbscan_label_true, db_scan_label_pred)\n",
    "\n",
    "print('accuracy_socre is %f,' %accuracy_socre,\\\n",
    "      'normalized_mutual_info_score is %f,' %NMI_score,\\\n",
    "      'adjusted_rand_score is %f.' %ARI_score)"
   ]
  },
  {
   "cell_type": "markdown",
   "metadata": {},
   "source": [
    "From the result, we can see that, the normalized_mutual_info_score and adjusted_rand_score are very high, while accuracy_socre is not good. In this case, we might think that there should be some drawbacks of accuracy_socre. For example, it requires manual assignment by human annotators, which is kind of like supervised learning and inconsistent with what we are doing."
   ]
  },
  {
   "cell_type": "markdown",
   "metadata": {},
   "source": [
    "## Part IV: Spectral Clustering and Kernel K-means (15 point)"
   ]
  },
  {
   "cell_type": "markdown",
   "metadata": {},
   "source": [
    "### Spectral Clustering"
   ]
  },
  {
   "cell_type": "code",
   "execution_count": 2,
   "metadata": {},
   "outputs": [],
   "source": [
    "import pandas as pd\n",
    "import numpy as np\n",
    "import math\n",
    "from scipy.spatial.distance import pdist\n",
    "from scipy.spatial.distance import squareform\n",
    "from scipy.sparse.linalg.eigen.arpack import eigsh \n",
    "from sklearn.cluster import KMeans\n",
    "import matplotlib.pyplot as plt"
   ]
  },
  {
   "cell_type": "code",
   "execution_count": 53,
   "metadata": {},
   "outputs": [
    {
     "data": {
      "text/plain": [
       "array([[-0.78304, 0.2793],\n",
       "       [-0.7530399999999999, 0.021],\n",
       "       [-0.7581, -0.2394],\n",
       "       [-0.75312, 0.20449],\n",
       "       [-0.72319, -0.28928000000000004]], dtype=object)"
      ]
     },
     "execution_count": 53,
     "metadata": {},
     "output_type": "execute_result"
    }
   ],
   "source": [
    "## loading data \n",
    "eye  = pd.read_csv('/Users/tjmask/Desktop/Semester 2/Data Mining/HW1/hw1/Homework_1/Datasets/eye.csv')\n",
    "eye  = eye.rename(columns={'Unnamed: 0': 'label'})\n",
    "data = np.array(eye)\n",
    "data = data[:,1:]\n",
    "data[:5]"
   ]
  },
  {
   "cell_type": "code",
   "execution_count": 54,
   "metadata": {},
   "outputs": [],
   "source": [
    "## getting the similarity matrix\n",
    "def get_simi_matrix(dataset, sigma=1):\n",
    "    distance = np.power(pdist(dataset, 'euclidean'),2)\n",
    "    \n",
    "    ## getting the distance among points based Gussian distance\n",
    "    def mapping(x):\n",
    "        return math.exp(-x/sigma)\n",
    "    return squareform(list(map(mapping,distance))) + np.eye(dataset.shape[0]) "
   ]
  },
  {
   "cell_type": "code",
   "execution_count": 55,
   "metadata": {},
   "outputs": [
    {
     "data": {
      "text/plain": [
       "(180, 180)"
      ]
     },
     "execution_count": 55,
     "metadata": {},
     "output_type": "execute_result"
    }
   ],
   "source": [
    "simi_matrix = get_simi_matrix(data, sigma = 0.05)\n",
    "simi_matrix.shape"
   ]
  },
  {
   "cell_type": "code",
   "execution_count": 56,
   "metadata": {},
   "outputs": [
    {
     "data": {
      "text/plain": [
       "(180, 180)"
      ]
     },
     "execution_count": 56,
     "metadata": {},
     "output_type": "execute_result"
    }
   ],
   "source": [
    "# shape(180,)\n",
    "Distance = sum(simi_matrix) \n",
    "Distance = np.power(Distance,-1/2)\n",
    "\n",
    "# Laplician matrix\n",
    "Lap_matrix = np.eye(len(Distance))-np.dot(np.dot(np.diag(Distance),simi_matrix),np.diag(Distance)) \n",
    "Lap_matrix.shape"
   ]
  },
  {
   "cell_type": "code",
   "execution_count": 57,
   "metadata": {},
   "outputs": [],
   "source": [
    "# Input number of clusters\n",
    "num_clusters = 2 \n",
    "\n",
    "# find the smallest eigenvectors\n",
    "x, eigenv = eigsh(Lap_matrix, num_clusters, which='SM')"
   ]
  },
  {
   "cell_type": "code",
   "execution_count": 58,
   "metadata": {},
   "outputs": [
    {
     "data": {
      "text/plain": [
       "array([0, 0, 0, 0, 0, 0, 0, 0, 0, 0, 0, 0, 0, 0, 0, 0, 0, 0, 0, 0, 0, 0,\n",
       "       0, 0, 0, 0, 0, 0, 0, 0, 0, 0, 0, 0, 0, 0, 0, 0, 0, 0, 0, 0, 0, 0,\n",
       "       0, 0, 0, 0, 0, 0, 0, 0, 0, 0, 0, 0, 0, 0, 0, 0, 1, 0, 1, 1, 1, 1,\n",
       "       0, 1, 1, 0, 0, 0, 1, 1, 1, 1, 1, 0, 1, 0, 0, 0, 0, 1, 1, 1, 1, 1,\n",
       "       1, 0, 1, 1, 1, 0, 0, 1, 1, 1, 0, 0, 1, 0, 1, 0, 0, 1, 1, 1, 1, 0,\n",
       "       1, 1, 1, 1, 0, 0, 0, 1, 1, 1, 1, 0, 0, 0, 0, 0, 0, 0, 0, 0, 0, 0,\n",
       "       0, 0, 0, 0, 0, 0, 0, 0, 0, 0, 0, 0, 0, 0, 0, 0, 0, 0, 0, 0, 0, 0,\n",
       "       0, 0, 0, 0, 0, 0, 0, 0, 0, 0, 0, 0, 0, 0, 0, 0, 0, 0, 0, 0, 0, 0,\n",
       "       0, 0, 0, 0], dtype=int32)"
      ]
     },
     "execution_count": 58,
     "metadata": {},
     "output_type": "execute_result"
    }
   ],
   "source": [
    "## using K-means\n",
    "kmeans = KMeans(n_clusters=num_clusters, random_state=42).fit(eigenv)\n",
    "labels = kmeans.labels_ \n",
    "labels"
   ]
  },
  {
   "cell_type": "code",
   "execution_count": 60,
   "metadata": {},
   "outputs": [
    {
     "data": {
      "text/plain": [
       "<matplotlib.legend.Legend at 0x1a1a170ad0>"
      ]
     },
     "execution_count": 60,
     "metadata": {},
     "output_type": "execute_result"
    },
    {
     "data": {
      "image/png": "[encoded data removed]",
      "text/plain": [
       "<Figure size 864x432 with 1 Axes>"
      ]
     },
     "metadata": {
      "needs_background": "light"
     },
     "output_type": "display_data"
    }
   ],
   "source": [
    "# Visualization\n",
    "plt.figure(figsize=(12,6))\n",
    "plt.scatter(data[labels==0,0],data[labels==0,1], marker = 'x',color = 'red', s = 40 ,label = 'Cluster_1')\n",
    "plt.scatter(data[labels==1,0],data[labels==1,1], marker = '+', color = 'blue', s = 40, label = 'Cluster_2')\n",
    "plt.legend()"
   ]
  },
  {
   "cell_type": "markdown",
   "metadata": {},
   "source": [
    "### Evaluation"
   ]
  },
  {
   "cell_type": "code",
   "execution_count": 64,
   "metadata": {},
   "outputs": [],
   "source": [
    "## getting predited and true labels \n",
    "spec_label_true = np.zeros(len(eye))\n",
    "\n",
    "for i in range(len(eye['label'])):\n",
    "    if eye['label'][i] == 'ORB':\n",
    "        spec_label_true[i] = 0\n",
    "    if eye['label'][i] == 'PUPIL':\n",
    "        spec_label_true[i] = 1\n",
    "        \n",
    "spec_scan_label_pred = labels"
   ]
  },
  {
   "cell_type": "code",
   "execution_count": 78,
   "metadata": {},
   "outputs": [
    {
     "name": "stdout",
     "output_type": "stream",
     "text": [
      "accuracy_socre is 1.000000, normalized_mutual_info_score is 1.000000, adjusted_rand_score is 1.000000.\n"
     ]
    }
   ],
   "source": [
    "## evaluation using accuracy\n",
    "accuracy_socre = accuracy(spec_label_true, spec_scan_label_pred)\n",
    "\n",
    "## evaluation using normalized_mutual_info_score\n",
    "NMI_score = normalized_mutual_info_score(spec_label_true, spec_scan_label_pred)\n",
    "\n",
    "## evaluation using adjusted_rand_score\n",
    "ARI_score = adjusted_rand_score(spec_label_true, spec_scan_label_pred)\n",
    "\n",
    "print('accuracy_socre is %f,' %accuracy_socre,\\\n",
    "      'normalized_mutual_info_score is %f,' %NMI_score,\\\n",
    "      'adjusted_rand_score is %f.' %ARI_score)"
   ]
  },
  {
   "cell_type": "markdown",
   "metadata": {},
   "source": [
    "From the result, we can see that, the three external measurements have the same results. And all of them is 1.0, which means the clustering is very good!"
   ]
  },
  {
   "cell_type": "markdown",
   "metadata": {},
   "source": [
    "### Kernel K-means"
   ]
  },
  {
   "cell_type": "code",
   "execution_count": 90,
   "metadata": {},
   "outputs": [],
   "source": [
    "from utils import * \n",
    "from math import exp "
   ]
  },
  {
   "cell_type": "code",
   "execution_count": 123,
   "metadata": {},
   "outputs": [],
   "source": [
    "def squaredDistance(a, b):\n",
    "    return np.linalg.norm(a-b)\n",
    "\n",
    "def kernel(dataset, sigma):\n",
    "    \"\"\"\n",
    "    :param dataset: data points: arrary[[a,b],[c,d]....]\n",
    "    :param sigma: Gaussian radial basis function\n",
    "    \"\"\"\n",
    "    nData = len(dataset)\n",
    "    Gram = np.zeros([len(dataset),len(dataset)])# nData x nData matrix\n",
    "    # Calculate the Gram matrix\n",
    "\n",
    "    # symmetric matrix\n",
    "    for i in range(nData):\n",
    "        for j in range(i,nData):\n",
    "            if i != j: # diagonal element of matrix = 0\n",
    "                # kernel: K(xi,xj) = e ( (-|xi-xj|**2) / (2sigma**2)\n",
    "                square_dist = squaredDistance(data[i],data[j])\n",
    "                base = 2.0 * sigma**2\n",
    "                Gram[i][j] = exp(-square_dist/base)\n",
    "                Gram[j][i] = Gram[i][j]\n",
    "    return Gram "
   ]
  },
  {
   "cell_type": "code",
   "execution_count": 124,
   "metadata": {},
   "outputs": [
    {
     "data": {
      "text/plain": [
       "(180, 180)"
      ]
     },
     "execution_count": 124,
     "metadata": {},
     "output_type": "execute_result"
    }
   ],
   "source": [
    "distance = kernel(data, 0.04)\n",
    "distance.shape"
   ]
  },
  {
   "cell_type": "code",
   "execution_count": 129,
   "metadata": {},
   "outputs": [
    {
     "data": {
      "text/plain": [
       "array([0, 0, 0, 0, 0, 0, 0, 0, 0, 0, 0, 0, 0, 0, 0, 0, 0, 0, 0, 0, 0, 0,\n",
       "       0, 0, 0, 0, 0, 0, 0, 0, 0, 0, 0, 0, 0, 0, 0, 0, 0, 0, 0, 0, 0, 0,\n",
       "       0, 0, 0, 0, 0, 0, 0, 0, 0, 0, 0, 0, 0, 0, 0, 0, 1, 0, 1, 1, 1, 1,\n",
       "       0, 1, 1, 0, 0, 0, 1, 1, 1, 1, 1, 0, 1, 0, 0, 0, 0, 1, 1, 1, 1, 1,\n",
       "       1, 0, 1, 1, 1, 0, 0, 1, 1, 1, 0, 0, 1, 0, 1, 0, 0, 1, 1, 1, 1, 0,\n",
       "       1, 1, 1, 1, 0, 0, 0, 1, 1, 1, 1, 0, 0, 0, 0, 0, 0, 0, 0, 0, 0, 0,\n",
       "       0, 0, 0, 0, 0, 0, 0, 0, 0, 0, 0, 0, 0, 0, 0, 0, 0, 0, 0, 0, 0, 0,\n",
       "       0, 0, 0, 0, 0, 0, 0, 0, 0, 0, 0, 0, 0, 0, 0, 0, 0, 0, 0, 0, 0, 0,\n",
       "       0, 0, 0, 0], dtype=int32)"
      ]
     },
     "execution_count": 129,
     "metadata": {},
     "output_type": "execute_result"
    }
   ],
   "source": [
    "# Suppose there are 2 clusters\n",
    "K = 2  \n",
    "centers = []\n",
    "for i in range(K):\n",
    "    centers.append(data[i])\n",
    "results = KMeans(data, centers)\n",
    "results = kmeans.labels_\n",
    "results"
   ]
  },
  {
   "cell_type": "code",
   "execution_count": 131,
   "metadata": {},
   "outputs": [
    {
     "data": {
      "text/plain": [
       "<matplotlib.legend.Legend at 0x1a19e55a90>"
      ]
     },
     "execution_count": 131,
     "metadata": {},
     "output_type": "execute_result"
    },
    {
     "data": {
      "image/png": "[encoded data removed]",
      "text/plain": [
       "<Figure size 864x432 with 1 Axes>"
      ]
     },
     "metadata": {
      "needs_background": "light"
     },
     "output_type": "display_data"
    }
   ],
   "source": [
    "# Visualization\n",
    "plt.figure(figsize=(12,6))\n",
    "plt.scatter(data[results==0,0],data[results==0,1], marker = 'x',color = 'red', s = 40 ,label = 'Cluster_1')\n",
    "plt.scatter(data[results==1,0],data[results==1,1], marker = '+', color = 'blue', s = 40, label = 'Cluster_2')\n",
    "plt.legend()"
   ]
  },
  {
   "cell_type": "markdown",
   "metadata": {},
   "source": [
    "### Evaluation"
   ]
  },
  {
   "cell_type": "code",
   "execution_count": 130,
   "metadata": {},
   "outputs": [
    {
     "name": "stdout",
     "output_type": "stream",
     "text": [
      "accuracy_socre is 1.000000, normalized_mutual_info_score is 1.000000, adjusted_rand_score is 1.000000.\n"
     ]
    }
   ],
   "source": [
    "## evaluation using accuracy\n",
    "accuracy_socre = accuracy(spec_label_true, results)\n",
    "\n",
    "## evaluation using normalized_mutual_info_score\n",
    "NMI_score = normalized_mutual_info_score(spec_label_true, results)\n",
    "\n",
    "## evaluation using adjusted_rand_score\n",
    "ARI_score = adjusted_rand_score(spec_label_true, results)\n",
    "\n",
    "print('accuracy_socre is %f,' %accuracy_socre,\\\n",
    "      'normalized_mutual_info_score is %f,' %NMI_score,\\\n",
    "      'adjusted_rand_score is %f.' %ARI_score)"
   ]
  },
  {
   "cell_type": "markdown",
   "metadata": {},
   "source": [
    "We can see that both Spectral Clustering and Kernel K-means are very similar. The difference is that Spectral Clustering need to get elgen vector. However, normalized Spectral Clustering and weighted Kernel K-means are the same."
   ]
  },
  {
   "cell_type": "code",
   "execution_count": null,
   "metadata": {},
   "outputs": [],
   "source": []
  }
 ],
 "metadata": {
  "kernelspec": {
   "display_name": "Python 3",
   "language": "python",
   "name": "python3"
  },
  "language_info": {
   "codemirror_mode": {
    "name": "ipython",
    "version": 3
   },
   "file_extension": ".py",
   "mimetype": "text/x-python",
   "name": "python",
   "nbconvert_exporter": "python",
   "pygments_lexer": "ipython3",
   "version": "3.7.6"
  }
 },
 "nbformat": 4,
 "nbformat_minor": 2
}
