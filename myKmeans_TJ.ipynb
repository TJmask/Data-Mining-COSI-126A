{
 "cells": [
  {
   "cell_type": "markdown",
   "metadata": {},
   "source": [
    "## K-means( random initialization)"
   ]
  },
  {
   "cell_type": "code",
   "execution_count": 5,
   "metadata": {},
   "outputs": [],
   "source": [
    "import numpy as np\n",
    "import math\n",
    "\n",
    "# % Standard K-means clustering\n",
    "# % Inputs: data, n*d data matrix with n instances and d features\n",
    "# %         K, number of clusters\n",
    "# % Ouputs: labels, n*1 indicator matrix with elements from 1 to K\n",
    "# %         centroids, K*d centroid matrix\n",
    "# %         objV, objective function value of K-means\n",
    "# % Jie TANG by 04/20/2020 jietang@brandeis.edu\n",
    "\n",
    "def myKmeans(data, K, Maxiter=50, ObjV =math.inf, threshold = 0.01):\n",
    "    centroids = initializeCentroid(data, K)\n",
    "    for i in range(Maxiter):\n",
    "        labels, New_ObjV = assign_label(data, centroids)\n",
    "        centroids = update_centroid(data, K, labels)\n",
    "        if ObjV-New_ObjV > threshold:\n",
    "            ObjV = New_ObjV\n",
    "    return labels, centroids, ObjV\n",
    "\n",
    "## initialize k centroids randomly\n",
    "def initializeCentroid(data, K):\n",
    "    return data[np.random.choice(len(data), K, replace=False)]\n",
    "   \n",
    "## assign labels to each point\n",
    "def assign_label(data, centroids):\n",
    "     return np.array([np.argmin(np.sqrt(np.sum((data[i]-centroids)**2, axis=1))) for i in range(len(data))]),\\\n",
    "    np.sum([np.sum((data[i]-centroids)**2) for i in range(len(data))])\n",
    "\n",
    "## update the centroids\n",
    "def update_centroid(data, K, labels):\n",
    "    return np.array([np.mean(data[labels==k], axis=0) for k in range(K)])"
   ]
  },
  {
   "cell_type": "markdown",
   "metadata": {},
   "source": [
    "### Testing"
   ]
  },
  {
   "cell_type": "code",
   "execution_count": 15,
   "metadata": {},
   "outputs": [],
   "source": [
    "## importing packages\n",
    "import pandas as pd\n",
    "import numpy as np\n",
    "import matplotlib.pylab as plt\n",
    "\n",
    "## loading data\n",
    "three_globs = pd.read_csv('/Users/tjmask/Desktop/Semester2/DataMining/HW1/hw1/Homework_1/Datasets/three_globs.csv')\n",
    "three_globs = np.array(three_globs)"
   ]
  },
  {
   "cell_type": "code",
   "execution_count": 16,
   "metadata": {},
   "outputs": [],
   "source": [
    "labels, centroids, ObjV = myKmeans(three_globs, 3)"
   ]
  },
  {
   "cell_type": "code",
   "execution_count": 17,
   "metadata": {},
   "outputs": [
    {
     "data": {
      "image/png": "[encoded data removed]",
      "text/plain": [
       "<Figure size 432x288 with 1 Axes>"
      ]
     },
     "metadata": {
      "needs_background": "light"
     },
     "output_type": "display_data"
    }
   ],
   "source": [
    "plt.scatter(three_globs[:, 0], three_globs[:, 1], marker='.', c = labels)\n",
    "plt.scatter(centroids[:, 0], centroids[:,1], c='r')\n",
    "plt.show()"
   ]
  },
  {
   "cell_type": "markdown",
   "metadata": {},
   "source": [
    "## K-means++"
   ]
  },
  {
   "cell_type": "code",
   "execution_count": 28,
   "metadata": {},
   "outputs": [],
   "source": [
    "import numpy as np\n",
    "\n",
    "## K-means++ initialization \n",
    "def myKmeans_pp(data, K):\n",
    "    ## get the data shape and creat an empty centriod array\n",
    "    d = data.shape[1] \n",
    "    centroids = np.zeros(d*K).reshape(K,d)\n",
    "    index = np.zeros(K)\n",
    "    \n",
    "    ## randomly choose the first centroid  \n",
    "    index[0] = np.random.choice(len(data),1, replace=False)\n",
    "    initial_centroid = data[int(index[0])]\n",
    "    centroids[0] = initial_centroid\n",
    "    \n",
    "    ## choose next centroids till all centroids are chosen\n",
    "    for k in range(1, K):\n",
    "        ## calculating the distance \n",
    "        distance = np.array([(np.sqrt(np.sum((data[i]-centroids)**2, axis=1))) for i in range(len(data))])\n",
    "        \n",
    "        ## get the index of the point which has the max distance \n",
    "        index[k] = np.argmax(distance)\n",
    "        \n",
    "        ## update centroids\n",
    "        centroids[k] = data[int(index[k])]\n",
    "    \n",
    "    return centroids, index"
   ]
  },
  {
   "cell_type": "markdown",
   "metadata": {},
   "source": [
    "### Testing"
   ]
  },
  {
   "cell_type": "code",
   "execution_count": 29,
   "metadata": {},
   "outputs": [
    {
     "data": {
      "text/plain": [
       "(array([[0.42394, 0.16459],\n",
       "        [0.47382, 0.53367],\n",
       "        [0.36908, 0.5187 ]]), array([44., 27., 28.]))"
      ]
     },
     "execution_count": 29,
     "metadata": {},
     "output_type": "execute_result"
    }
   ],
   "source": [
    "myKmeans_pp(three_globs, 3)"
   ]
  },
  {
   "cell_type": "markdown",
   "metadata": {},
   "source": [
    "## Greedy K-means ???"
   ]
  },
  {
   "cell_type": "code",
   "execution_count": null,
   "metadata": {},
   "outputs": [],
   "source": [
    "from sklearn.cluster import KMeans\n",
    "\n",
    "def Greedy_Kmeans(data, K):\n",
    "    ## get the data shape and create an empty centriod array\n",
    "    d = data.shape[1] \n",
    "    centroids = np.zeros(d*K).reshape(K,d)\n",
    "    index = np.zeros(K)\n",
    "    \n",
    "    ## choose the mean of all points as the initialized centroid\n",
    "    initial_centriod = np.sum(data, axis=0)\n",
    "    \n",
    "   \n",
    "    for k in range(1, K):\n",
    "        centroid_k = np.zeros(d)\n",
    "        temp_socre = np.zeros(len(data))\n",
    "        temp_centroid = np.zeros(d*k).reshape(k,d)\n",
    "        for i in range(len(data)):\n",
    "            temp_socre[i] = KMeans(data, k, centroid_k).score\n",
    "            temp_centroid[i] = KMeans.centroid\n",
    "        \n",
    "        centroid_k = temp_centroid[np.argmax(temp_socre)]\n",
    "        \n",
    "    return centroids, index "
   ]
  },
  {
   "cell_type": "markdown",
   "metadata": {},
   "source": [
    "## Kernel K-means"
   ]
  },
  {
   "cell_type": "code",
   "execution_count": 272,
   "metadata": {},
   "outputs": [],
   "source": [
    "from sklearn.cluster import KMeans\n",
    "from utils import * \n",
    "from math import exp, inf\n",
    "\n",
    "\n",
    "def myKernalKmeans(data, K, sigma):\n",
    "    \n",
    "# % Standard K-means clustering\n",
    "# % Inputs: data, n*d data matrix with n instances and d features;\n",
    "#           K, number of clusters; \n",
    "#           sigma, the variance we want the kernel to have;      \n",
    "# % Ouputs: labels, n*1 indicator matrix with elements from 1 to K\n",
    "# %         objV, objective function value of K-means\n",
    "# % Jie Tang 04/20/2020 jietang@brandeis.edu\n",
    "\n",
    "    maxIter = 100;\n",
    "    threshold = 0.04;\n",
    "    old_ObjV = inf;\n",
    "    n = len(data)\n",
    "    labels = np.zeros([n])\n",
    "    for i in range(n):\n",
    "        labels[i] = np.random.choice(K, 1, replace = True)\n",
    "        \n",
    "    ## generate the Kernel matrix \n",
    "    Kmatrix = kernel(data, sigma)\n",
    "    \n",
    "    for i in range(maxIter):\n",
    "        labels, ObjV = assignLabel(data, labels,Kmatrix, n, K) ## update labels\n",
    "        \n",
    "        if old_ObjV-ObjV > threshold:\n",
    "            old_ObjV = ObjV\n",
    "    return labels, ObjV\n",
    "\n",
    "\n",
    "\n",
    "def assignLabel(data, labels, Kmatrix, n, K):\n",
    "    ObjV = 0\n",
    "    distance = np.zeros([n, K]) \n",
    "    \n",
    "    for i in range(n):\n",
    "        for k in range(K):\n",
    "            ## computing distance based on objective functions\n",
    "            distance[i,k] = -2*np.sum(Kmatrix[i,np.where(labels==k)[0]])/np.sum(labels==k) +\\\n",
    "            np.sum(Kmatrix[np.where(labels==k)[0],np.where(labels==k)[0]])/(np.sum(labels==k)^2)\n",
    "            \n",
    "        value = np.min(distance[i,:])\n",
    "        ObjV += value\n",
    "        labels[i] = np.argmin(distance[i,:])\n",
    "        \n",
    "    return labels, ObjV\n",
    "\n",
    "\n",
    "def squaredDistance(a, b):\n",
    "    return np.linalg.norm(a-b)\n",
    "\n",
    "def kernel(data,sigma):\n",
    "    \"\"\"\" \n",
    "    Inputs: data, n*d data matrix with n instances and d features\n",
    "            K, number of clusters; \n",
    "            sigma, the variance we want the kernel to have;\n",
    "    Ouputs: Kmatrix, n*n Kernel matrix \n",
    "\n",
    "    \"\"\"\"\"\n",
    "    nData = len(data)\n",
    "    Kmatrix = np.zeros([nData,nData]) # nData x nData matrix\n",
    "    \n",
    "    # Calculate the Kmatrix matrix\n",
    "    # symmetric matrix\n",
    "    for i in range(nData):\n",
    "        for j in range(i,nData):\n",
    "            if i != j:  # diagonal element of matrix = 0\n",
    "                # kernel: K(xi,xj) = e ( (-|xi-xj|**2) / (2sigma**2)\n",
    "                square_dist = squaredDistance(data[i],data[j])\n",
    "                base = 2.0 * sigma**2\n",
    "                Kmatrix[i][j] = exp(-square_dist/base)\n",
    "                Kmatrix[j][i] = Kmatrix[i][j]\n",
    "                \n",
    "    return Kmatrix"
   ]
  },
  {
   "cell_type": "markdown",
   "metadata": {},
   "source": [
    "### Testing"
   ]
  },
  {
   "cell_type": "code",
   "execution_count": 278,
   "metadata": {},
   "outputs": [
    {
     "data": {
      "image/png": "[encoded data removed]",
      "text/plain": [
       "<Figure size 432x288 with 1 Axes>"
      ]
     },
     "metadata": {
      "needs_background": "light"
     },
     "output_type": "display_data"
    }
   ],
   "source": [
    "## loading data \n",
    "eye  = pd.read_csv('/Users/tjmask/Desktop/Semester2/DataMining/HW1/hw1/Homework_1/Datasets/eye.csv')\n",
    "eye = np.array(eye.iloc[:,1:])\n",
    "\n",
    "labels, ObjV = myKernalKmeans(eye, 2, 0.04)\n",
    "plt.scatter(eye[:, 0], eye[:, 1], marker='.', c = labels)\n",
    "plt.show()"
   ]
  },
  {
   "cell_type": "code",
   "execution_count": null,
   "metadata": {},
   "outputs": [],
   "source": []
  },
  {
   "cell_type": "code",
   "execution_count": null,
   "metadata": {},
   "outputs": [],
   "source": []
  },
  {
   "cell_type": "code",
   "execution_count": null,
   "metadata": {},
   "outputs": [],
   "source": []
  }
 ],
 "metadata": {
  "kernelspec": {
   "display_name": "Python 3",
   "language": "python",
   "name": "python3"
  },
  "language_info": {
   "codemirror_mode": {
    "name": "ipython",
    "version": 3
   },
   "file_extension": ".py",
   "mimetype": "text/x-python",
   "name": "python",
   "nbconvert_exporter": "python",
   "pygments_lexer": "ipython3",
   "version": "3.7.6"
  }
 },
 "nbformat": 4,
 "nbformat_minor": 4
}
