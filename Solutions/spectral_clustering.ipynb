{
 "cells": [
  {
   "cell_type": "code",
   "execution_count": 48,
   "metadata": {},
   "outputs": [],
   "source": [
    "#### Spectral clustering ####\n",
    "# Input: array of shape(n, m), where n is the number of data points.\n",
    "\n",
    "# Step:\n",
    "# 1. Fully connected similarity matrix based on Gaussian Kernel\n",
    "# 2. Laplacian matrix\n",
    "# 3. Matrix of eigenvectors\n",
    "# 4. K-means.\n"
   ]
  },
  {
   "cell_type": "code",
   "execution_count": 2,
   "metadata": {},
   "outputs": [],
   "source": [
    "import pandas as pd\n",
    "import numpy as np\n",
    "import math\n",
    "from scipy.spatial.distance import pdist\n",
    "from scipy.spatial.distance import squareform\n",
    "from scipy.sparse.linalg.eigen.arpack import eigsh \n",
    "from sklearn.cluster import KMeans\n",
    "import matplotlib.pyplot as plt"
   ]
  },
  {
   "cell_type": "code",
   "execution_count": 13,
   "metadata": {},
   "outputs": [],
   "source": [
    "# Step 0\n",
    "df = pd.read_csv('/Users/tjmask/Desktop/Semester 2/Data Mining/HW1/hw1/Homework_1/Datasets/eye.csv')\n",
    "data = np.array(df)\n",
    "data = data[:,1:]"
   ]
  },
  {
   "cell_type": "code",
   "execution_count": 14,
   "metadata": {},
   "outputs": [],
   "source": [
    "# Step 1\n",
    "def get_simi_matrix(data, sigma_2=1):\n",
    "    assert sigma_2 > 1e-3, \"Please input a valid positive sigma\"\n",
    "    dm = np.power(pdist(data, 'euclidean'),2)\n",
    "    def map_f(x):\n",
    "        return math.exp(-x/sigma_2)\n",
    "    return squareform(list(map(map_f,dm))) + np.eye(data.shape[0]) "
   ]
  },
  {
   "cell_type": "code",
   "execution_count": 16,
   "metadata": {},
   "outputs": [
    {
     "data": {
      "text/plain": [
       "array([[1.00000000e+00, 2.58624571e-01, 4.54633497e-03, ...,\n",
       "        8.23041599e-23, 7.86340226e-24, 1.05347031e-25],\n",
       "       [2.58624571e-01, 1.00000000e+00, 2.57515524e-01, ...,\n",
       "        7.81975752e-22, 2.63558676e-22, 2.19499694e-25],\n",
       "       [4.54633497e-03, 2.57515524e-01, 1.00000000e+00, ...,\n",
       "        5.53748006e-23, 6.46706972e-23, 2.88362672e-27],\n",
       "       ...,\n",
       "       [8.23041599e-23, 7.81975752e-22, 5.53748006e-23, ...,\n",
       "        1.00000000e+00, 7.44896587e-01, 4.72245332e-01],\n",
       "       [7.86340226e-24, 2.63558676e-22, 6.46706972e-23, ...,\n",
       "        7.44896587e-01, 1.00000000e+00, 1.78824422e-01],\n",
       "       [1.05347031e-25, 2.19499694e-25, 2.88362672e-27, ...,\n",
       "        4.72245332e-01, 1.78824422e-01, 1.00000000e+00]])"
      ]
     },
     "execution_count": 16,
     "metadata": {},
     "output_type": "execute_result"
    }
   ],
   "source": [
    "simi_matrix = get_simi_matrix(data, sigma_2 = 0.05)\n",
    "simi_matrix"
   ]
  },
  {
   "cell_type": "code",
   "execution_count": 17,
   "metadata": {},
   "outputs": [],
   "source": [
    "# Step 2\n",
    "D = sum(simi_matrix) # vector \n",
    "D = np.power(D,-1/2) # D^{-1/2}\n",
    "L = np.eye(len(D))-np.dot(np.dot(np.diag(D),simi_matrix),np.diag(D)) # Laplician matrix"
   ]
  },
  {
   "cell_type": "code",
   "execution_count": 18,
   "metadata": {},
   "outputs": [],
   "source": [
    "# Step 3\n",
    "num_clusters = 2 # Input number of clusters\n",
    "_, eigenv = eigsh(L, num_clusters, which='SM') # num_clusters smallest eigenvectors"
   ]
  },
  {
   "cell_type": "code",
   "execution_count": 19,
   "metadata": {},
   "outputs": [],
   "source": [
    "# Step 4\n",
    "kmeans = KMeans(n_clusters=num_clusters, random_state=0).fit(eigenv)\n",
    "labels = kmeans.labels_ "
   ]
  },
  {
   "cell_type": "code",
   "execution_count": 20,
   "metadata": {},
   "outputs": [
    {
     "data": {
      "text/plain": [
       "<matplotlib.collections.PathCollection at 0x1a24c580b8>"
      ]
     },
     "execution_count": 20,
     "metadata": {},
     "output_type": "execute_result"
    },
    {
     "data": {
      "image/png": "[encoded data removed]",
      "text/plain": [
       "<Figure size 432x288 with 1 Axes>"
      ]
     },
     "metadata": {
      "needs_background": "light"
     },
     "output_type": "display_data"
    }
   ],
   "source": [
    "# Visualization\n",
    "plt.scatter(data[labels==0,0],data[labels==0,1], marker = 'x',color = 'red', s = 40 ,label = 'First')\n",
    "plt.scatter(data[labels==1,0],data[labels==1,1], marker = '+', color = 'blue', s = 40, label = 'Second')"
   ]
  },
  {
   "cell_type": "code",
   "execution_count": null,
   "metadata": {},
   "outputs": [],
   "source": []
  },
  {
   "cell_type": "code",
   "execution_count": null,
   "metadata": {},
   "outputs": [],
   "source": []
  }
 ],
 "metadata": {
  "kernelspec": {
   "display_name": "Python 3",
   "language": "python",
   "name": "python3"
  },
  "language_info": {
   "codemirror_mode": {
    "name": "ipython",
    "version": 3
   },
   "file_extension": ".py",
   "mimetype": "text/x-python",
   "name": "python",
   "nbconvert_exporter": "python",
   "pygments_lexer": "ipython3",
   "version": "3.7.0"
  }
 },
 "nbformat": 4,
 "nbformat_minor": 2
}
